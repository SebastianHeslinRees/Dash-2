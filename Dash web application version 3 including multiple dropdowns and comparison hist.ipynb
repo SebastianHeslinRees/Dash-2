{
 "cells": [
  {
   "cell_type": "code",
   "execution_count": 48,
   "id": "terminal-bangladesh",
   "metadata": {},
   "outputs": [],
   "source": [
    "#import packages\n",
    "import os\n",
    "import pandas as pd\n",
    "import plotly.express as px  # (version 4.7.0 or higher)\n",
    "import plotly.graph_objects as go\n",
    "#from dash import Dash, dcc, html, Input, Output  # pip install dash (version 2.0.0 or higher)"
   ]
  },
  {
   "cell_type": "code",
   "execution_count": 49,
   "id": "suitable-saskatchewan",
   "metadata": {},
   "outputs": [],
   "source": [
    "#import dash libaries\n",
    "import dash\n",
    "import dash_core_components as dcc\n",
    "import dash_html_components as html\n",
    "from dash.dependencies import Output, Input\n",
    "import dash_bootstrap_components as dbc"
   ]
  },
  {
   "cell_type": "code",
   "execution_count": 50,
   "id": "lined-beijing",
   "metadata": {},
   "outputs": [],
   "source": [
    "from dash import Dash\n",
    "app = dash.Dash()"
   ]
  },
  {
   "cell_type": "code",
   "execution_count": 51,
   "id": "digital-championship",
   "metadata": {},
   "outputs": [],
   "source": [
    "#importing mirco census data\n",
    "os.chdir(r\"C:\\Users\\SHRees\\OneDrive - TrIS\\Equalities and Disparities - Characteristics Interaction Report\\Datasets\")\n",
    "#la_mirco_census = pd.read_csv('recodev12.csv')\n",
    "region_mirco_census = pd.read_csv('census_150.csv')\n"
   ]
  },
  {
   "cell_type": "code",
   "execution_count": 52,
   "id": "voluntary-shape",
   "metadata": {},
   "outputs": [
    {
     "data": {
      "text/html": [
       "<div>\n",
       "<style scoped>\n",
       "    .dataframe tbody tr th:only-of-type {\n",
       "        vertical-align: middle;\n",
       "    }\n",
       "\n",
       "    .dataframe tbody tr th {\n",
       "        vertical-align: top;\n",
       "    }\n",
       "\n",
       "    .dataframe thead th {\n",
       "        text-align: right;\n",
       "    }\n",
       "</style>\n",
       "<table border=\"1\" class=\"dataframe\">\n",
       "  <thead>\n",
       "    <tr style=\"text-align: right;\">\n",
       "      <th></th>\n",
       "      <th>Unnamed: 0</th>\n",
       "      <th>caseno</th>\n",
       "      <th>country</th>\n",
       "      <th>region</th>\n",
       "      <th>add1yr</th>\n",
       "      <th>age</th>\n",
       "      <th>agehrp</th>\n",
       "      <th>aggdtwpew11g</th>\n",
       "      <th>ahchuk11</th>\n",
       "      <th>carer</th>\n",
       "      <th>...</th>\n",
       "      <th>wg1famuk11</th>\n",
       "      <th>wkpladdewni</th>\n",
       "      <th>wlshread</th>\n",
       "      <th>wlshspeak</th>\n",
       "      <th>wlshstnd</th>\n",
       "      <th>wlshwrit</th>\n",
       "      <th>wpzhome</th>\n",
       "      <th>wrkplaceew</th>\n",
       "      <th>yradindstud</th>\n",
       "      <th>yrarryearg</th>\n",
       "    </tr>\n",
       "  </thead>\n",
       "  <tbody>\n",
       "    <tr>\n",
       "      <th>0</th>\n",
       "      <td>1378368</td>\n",
       "      <td>353359</td>\n",
       "      <td>1</td>\n",
       "      <td>2</td>\n",
       "      <td>1</td>\n",
       "      <td>70</td>\n",
       "      <td>70</td>\n",
       "      <td>-9</td>\n",
       "      <td>5</td>\n",
       "      <td>1</td>\n",
       "      <td>...</td>\n",
       "      <td>0</td>\n",
       "      <td>-9</td>\n",
       "      <td>-9</td>\n",
       "      <td>-9</td>\n",
       "      <td>-9</td>\n",
       "      <td>-9</td>\n",
       "      <td>-9</td>\n",
       "      <td>-9</td>\n",
       "      <td>0</td>\n",
       "      <td>-9</td>\n",
       "    </tr>\n",
       "    <tr>\n",
       "      <th>1</th>\n",
       "      <td>1464864</td>\n",
       "      <td>1217543</td>\n",
       "      <td>1</td>\n",
       "      <td>4</td>\n",
       "      <td>1</td>\n",
       "      <td>48</td>\n",
       "      <td>50</td>\n",
       "      <td>4</td>\n",
       "      <td>7</td>\n",
       "      <td>1</td>\n",
       "      <td>...</td>\n",
       "      <td>2</td>\n",
       "      <td>1</td>\n",
       "      <td>-9</td>\n",
       "      <td>-9</td>\n",
       "      <td>-9</td>\n",
       "      <td>-9</td>\n",
       "      <td>4</td>\n",
       "      <td>4</td>\n",
       "      <td>0</td>\n",
       "      <td>-9</td>\n",
       "    </tr>\n",
       "    <tr>\n",
       "      <th>2</th>\n",
       "      <td>1664727</td>\n",
       "      <td>2436424</td>\n",
       "      <td>1</td>\n",
       "      <td>4</td>\n",
       "      <td>1</td>\n",
       "      <td>60</td>\n",
       "      <td>58</td>\n",
       "      <td>-9</td>\n",
       "      <td>10</td>\n",
       "      <td>1</td>\n",
       "      <td>...</td>\n",
       "      <td>1</td>\n",
       "      <td>-9</td>\n",
       "      <td>-9</td>\n",
       "      <td>-9</td>\n",
       "      <td>-9</td>\n",
       "      <td>-9</td>\n",
       "      <td>-9</td>\n",
       "      <td>-9</td>\n",
       "      <td>0</td>\n",
       "      <td>-9</td>\n",
       "    </tr>\n",
       "    <tr>\n",
       "      <th>3</th>\n",
       "      <td>2133180</td>\n",
       "      <td>336318</td>\n",
       "      <td>1</td>\n",
       "      <td>8</td>\n",
       "      <td>-9</td>\n",
       "      <td>22</td>\n",
       "      <td>80</td>\n",
       "      <td>-9</td>\n",
       "      <td>1</td>\n",
       "      <td>-9</td>\n",
       "      <td>...</td>\n",
       "      <td>-9</td>\n",
       "      <td>-9</td>\n",
       "      <td>-9</td>\n",
       "      <td>-9</td>\n",
       "      <td>-9</td>\n",
       "      <td>-9</td>\n",
       "      <td>-9</td>\n",
       "      <td>-9</td>\n",
       "      <td>-9</td>\n",
       "      <td>-9</td>\n",
       "    </tr>\n",
       "    <tr>\n",
       "      <th>4</th>\n",
       "      <td>2300839</td>\n",
       "      <td>2588903</td>\n",
       "      <td>1</td>\n",
       "      <td>6</td>\n",
       "      <td>1</td>\n",
       "      <td>28</td>\n",
       "      <td>55</td>\n",
       "      <td>-9</td>\n",
       "      <td>10</td>\n",
       "      <td>1</td>\n",
       "      <td>...</td>\n",
       "      <td>1</td>\n",
       "      <td>-9</td>\n",
       "      <td>-9</td>\n",
       "      <td>-9</td>\n",
       "      <td>-9</td>\n",
       "      <td>-9</td>\n",
       "      <td>-9</td>\n",
       "      <td>-9</td>\n",
       "      <td>0</td>\n",
       "      <td>-9</td>\n",
       "    </tr>\n",
       "    <tr>\n",
       "      <th>...</th>\n",
       "      <td>...</td>\n",
       "      <td>...</td>\n",
       "      <td>...</td>\n",
       "      <td>...</td>\n",
       "      <td>...</td>\n",
       "      <td>...</td>\n",
       "      <td>...</td>\n",
       "      <td>...</td>\n",
       "      <td>...</td>\n",
       "      <td>...</td>\n",
       "      <td>...</td>\n",
       "      <td>...</td>\n",
       "      <td>...</td>\n",
       "      <td>...</td>\n",
       "      <td>...</td>\n",
       "      <td>...</td>\n",
       "      <td>...</td>\n",
       "      <td>...</td>\n",
       "      <td>...</td>\n",
       "      <td>...</td>\n",
       "      <td>...</td>\n",
       "    </tr>\n",
       "    <tr>\n",
       "      <th>145</th>\n",
       "      <td>1575667</td>\n",
       "      <td>679608</td>\n",
       "      <td>1</td>\n",
       "      <td>5</td>\n",
       "      <td>-9</td>\n",
       "      <td>0</td>\n",
       "      <td>22</td>\n",
       "      <td>-9</td>\n",
       "      <td>6</td>\n",
       "      <td>1</td>\n",
       "      <td>...</td>\n",
       "      <td>0</td>\n",
       "      <td>-9</td>\n",
       "      <td>-9</td>\n",
       "      <td>-9</td>\n",
       "      <td>-9</td>\n",
       "      <td>-9</td>\n",
       "      <td>-9</td>\n",
       "      <td>-9</td>\n",
       "      <td>-9</td>\n",
       "      <td>-9</td>\n",
       "    </tr>\n",
       "    <tr>\n",
       "      <th>146</th>\n",
       "      <td>2150097</td>\n",
       "      <td>1656603</td>\n",
       "      <td>2</td>\n",
       "      <td>11</td>\n",
       "      <td>1</td>\n",
       "      <td>52</td>\n",
       "      <td>52</td>\n",
       "      <td>3</td>\n",
       "      <td>10</td>\n",
       "      <td>1</td>\n",
       "      <td>...</td>\n",
       "      <td>2</td>\n",
       "      <td>1</td>\n",
       "      <td>0</td>\n",
       "      <td>0</td>\n",
       "      <td>0</td>\n",
       "      <td>0</td>\n",
       "      <td>3</td>\n",
       "      <td>3</td>\n",
       "      <td>0</td>\n",
       "      <td>-9</td>\n",
       "    </tr>\n",
       "    <tr>\n",
       "      <th>147</th>\n",
       "      <td>143697</td>\n",
       "      <td>2051830</td>\n",
       "      <td>1</td>\n",
       "      <td>8</td>\n",
       "      <td>1</td>\n",
       "      <td>85</td>\n",
       "      <td>85</td>\n",
       "      <td>-9</td>\n",
       "      <td>1</td>\n",
       "      <td>1</td>\n",
       "      <td>...</td>\n",
       "      <td>-9</td>\n",
       "      <td>-9</td>\n",
       "      <td>-9</td>\n",
       "      <td>-9</td>\n",
       "      <td>-9</td>\n",
       "      <td>-9</td>\n",
       "      <td>-9</td>\n",
       "      <td>-9</td>\n",
       "      <td>0</td>\n",
       "      <td>-9</td>\n",
       "    </tr>\n",
       "    <tr>\n",
       "      <th>148</th>\n",
       "      <td>169620</td>\n",
       "      <td>862893</td>\n",
       "      <td>1</td>\n",
       "      <td>3</td>\n",
       "      <td>1</td>\n",
       "      <td>60</td>\n",
       "      <td>60</td>\n",
       "      <td>6</td>\n",
       "      <td>9</td>\n",
       "      <td>1</td>\n",
       "      <td>...</td>\n",
       "      <td>2</td>\n",
       "      <td>1</td>\n",
       "      <td>-9</td>\n",
       "      <td>-9</td>\n",
       "      <td>-9</td>\n",
       "      <td>-9</td>\n",
       "      <td>4</td>\n",
       "      <td>4</td>\n",
       "      <td>0</td>\n",
       "      <td>-9</td>\n",
       "    </tr>\n",
       "    <tr>\n",
       "      <th>149</th>\n",
       "      <td>2559978</td>\n",
       "      <td>1705147</td>\n",
       "      <td>2</td>\n",
       "      <td>11</td>\n",
       "      <td>1</td>\n",
       "      <td>31</td>\n",
       "      <td>31</td>\n",
       "      <td>3</td>\n",
       "      <td>7</td>\n",
       "      <td>1</td>\n",
       "      <td>...</td>\n",
       "      <td>2</td>\n",
       "      <td>1</td>\n",
       "      <td>0</td>\n",
       "      <td>0</td>\n",
       "      <td>0</td>\n",
       "      <td>0</td>\n",
       "      <td>4</td>\n",
       "      <td>4</td>\n",
       "      <td>0</td>\n",
       "      <td>-9</td>\n",
       "    </tr>\n",
       "  </tbody>\n",
       "</table>\n",
       "<p>150 rows × 122 columns</p>\n",
       "</div>"
      ],
      "text/plain": [
       "     Unnamed: 0   caseno  country  region  add1yr  age  agehrp  aggdtwpew11g  \\\n",
       "0       1378368   353359        1       2       1   70      70            -9   \n",
       "1       1464864  1217543        1       4       1   48      50             4   \n",
       "2       1664727  2436424        1       4       1   60      58            -9   \n",
       "3       2133180   336318        1       8      -9   22      80            -9   \n",
       "4       2300839  2588903        1       6       1   28      55            -9   \n",
       "..          ...      ...      ...     ...     ...  ...     ...           ...   \n",
       "145     1575667   679608        1       5      -9    0      22            -9   \n",
       "146     2150097  1656603        2      11       1   52      52             3   \n",
       "147      143697  2051830        1       8       1   85      85            -9   \n",
       "148      169620   862893        1       3       1   60      60             6   \n",
       "149     2559978  1705147        2      11       1   31      31             3   \n",
       "\n",
       "     ahchuk11  carer  ...  wg1famuk11  wkpladdewni  wlshread  wlshspeak  \\\n",
       "0           5      1  ...           0           -9        -9         -9   \n",
       "1           7      1  ...           2            1        -9         -9   \n",
       "2          10      1  ...           1           -9        -9         -9   \n",
       "3           1     -9  ...          -9           -9        -9         -9   \n",
       "4          10      1  ...           1           -9        -9         -9   \n",
       "..        ...    ...  ...         ...          ...       ...        ...   \n",
       "145         6      1  ...           0           -9        -9         -9   \n",
       "146        10      1  ...           2            1         0          0   \n",
       "147         1      1  ...          -9           -9        -9         -9   \n",
       "148         9      1  ...           2            1        -9         -9   \n",
       "149         7      1  ...           2            1         0          0   \n",
       "\n",
       "     wlshstnd  wlshwrit  wpzhome  wrkplaceew  yradindstud  yrarryearg  \n",
       "0          -9        -9       -9          -9            0          -9  \n",
       "1          -9        -9        4           4            0          -9  \n",
       "2          -9        -9       -9          -9            0          -9  \n",
       "3          -9        -9       -9          -9           -9          -9  \n",
       "4          -9        -9       -9          -9            0          -9  \n",
       "..        ...       ...      ...         ...          ...         ...  \n",
       "145        -9        -9       -9          -9           -9          -9  \n",
       "146         0         0        3           3            0          -9  \n",
       "147        -9        -9       -9          -9            0          -9  \n",
       "148        -9        -9        4           4            0          -9  \n",
       "149         0         0        4           4            0          -9  \n",
       "\n",
       "[150 rows x 122 columns]"
      ]
     },
     "execution_count": 52,
     "metadata": {},
     "output_type": "execute_result"
    }
   ],
   "source": [
    "region_mirco_census"
   ]
  },
  {
   "cell_type": "code",
   "execution_count": 53,
   "id": "manual-newport",
   "metadata": {},
   "outputs": [],
   "source": [
    "#create rename region column\n",
    "region_mirco_census['region_names'] = region_mirco_census['region']\n",
    "#replace value with region name\n",
    "region_mirco_census['region_names'] = region_mirco_census['region_names'].replace([1,2,3,4,5,6,7,8,9,10,11],['North East', 'North West',\n",
    "'Yorkshire and the Humber',\n",
    "'East Midlands',\n",
    "'West Midlands',\n",
    "'East of England',\n",
    "'Inner London',\n",
    "'Outer London',\n",
    "'South East',\n",
    "'South West',\n",
    "'Wales'])"
   ]
  },
  {
   "cell_type": "code",
   "execution_count": 54,
   "id": "tested-geography",
   "metadata": {},
   "outputs": [],
   "source": [
    "#rename ethnicity\n",
    "region_mirco_census['ethnicityew_names'] = region_mirco_census['ethnicityew']\n",
    "#replace value with ethincity name\n",
    "region_mirco_census['ethnicityew_names'] = region_mirco_census['ethnicityew_names'].replace([1,2,3,4,5,6,7,8,9,10,11,12,13,14,15,16,17,18,-9],['White: English/Welsh/Scottish/Northern Irish/British',\n",
    "'White: Irish',\n",
    "'White: Gypsy or Irish Traveller',\n",
    "'White: Other White',\n",
    "'Mixed/multiple ethnic group: White and Black Caribbean',\n",
    "'Mixed/multiple ethnic group: White and Black African',\n",
    "'Mixed/multiple ethnic group: White and Asian',\n",
    "'Mixed/multiple ethnic group: Other Mixed',\n",
    "'Asian/Asian British: Indian',\n",
    "'Asian/Asian British: Pakistani',\n",
    "'Asian/Asian British: Bangladeshi',\n",
    "'Asian/Asian British: Chinese',\n",
    "'Asian/Asian British: Other Asian',\n",
    "'Black/African/Caribbean/Black British: African',\n",
    "'Black/African/Caribbean/Black British: Caribbean',\n",
    "'Black/African/Caribbean/Black British: Other Black',\n",
    "'Other ethnic group: Arab',\n",
    "'Other ethnic group: Any other ethnic group',\n",
    "'Student/schoolchild living away during term-time'])"
   ]
  },
  {
   "cell_type": "code",
   "execution_count": 55,
   "id": "affecting-premiere",
   "metadata": {},
   "outputs": [
    {
     "data": {
      "text/html": [
       "<div>\n",
       "<style scoped>\n",
       "    .dataframe tbody tr th:only-of-type {\n",
       "        vertical-align: middle;\n",
       "    }\n",
       "\n",
       "    .dataframe tbody tr th {\n",
       "        vertical-align: top;\n",
       "    }\n",
       "\n",
       "    .dataframe thead th {\n",
       "        text-align: right;\n",
       "    }\n",
       "</style>\n",
       "<table border=\"1\" class=\"dataframe\">\n",
       "  <thead>\n",
       "    <tr style=\"text-align: right;\">\n",
       "      <th></th>\n",
       "      <th>ethnicityew_names</th>\n",
       "      <th>region_names</th>\n",
       "      <th>age</th>\n",
       "    </tr>\n",
       "  </thead>\n",
       "  <tbody>\n",
       "    <tr>\n",
       "      <th>0</th>\n",
       "      <td>White: English/Welsh/Scottish/Northern Irish/B...</td>\n",
       "      <td>North West</td>\n",
       "      <td>70</td>\n",
       "    </tr>\n",
       "    <tr>\n",
       "      <th>1</th>\n",
       "      <td>White: English/Welsh/Scottish/Northern Irish/B...</td>\n",
       "      <td>East Midlands</td>\n",
       "      <td>48</td>\n",
       "    </tr>\n",
       "    <tr>\n",
       "      <th>2</th>\n",
       "      <td>White: English/Welsh/Scottish/Northern Irish/B...</td>\n",
       "      <td>East Midlands</td>\n",
       "      <td>60</td>\n",
       "    </tr>\n",
       "    <tr>\n",
       "      <th>3</th>\n",
       "      <td>Student/schoolchild living away during term-time</td>\n",
       "      <td>Outer London</td>\n",
       "      <td>22</td>\n",
       "    </tr>\n",
       "    <tr>\n",
       "      <th>4</th>\n",
       "      <td>White: English/Welsh/Scottish/Northern Irish/B...</td>\n",
       "      <td>East of England</td>\n",
       "      <td>28</td>\n",
       "    </tr>\n",
       "    <tr>\n",
       "      <th>...</th>\n",
       "      <td>...</td>\n",
       "      <td>...</td>\n",
       "      <td>...</td>\n",
       "    </tr>\n",
       "    <tr>\n",
       "      <th>145</th>\n",
       "      <td>White: English/Welsh/Scottish/Northern Irish/B...</td>\n",
       "      <td>West Midlands</td>\n",
       "      <td>0</td>\n",
       "    </tr>\n",
       "    <tr>\n",
       "      <th>146</th>\n",
       "      <td>White: English/Welsh/Scottish/Northern Irish/B...</td>\n",
       "      <td>Wales</td>\n",
       "      <td>52</td>\n",
       "    </tr>\n",
       "    <tr>\n",
       "      <th>147</th>\n",
       "      <td>White: English/Welsh/Scottish/Northern Irish/B...</td>\n",
       "      <td>Outer London</td>\n",
       "      <td>85</td>\n",
       "    </tr>\n",
       "    <tr>\n",
       "      <th>148</th>\n",
       "      <td>White: English/Welsh/Scottish/Northern Irish/B...</td>\n",
       "      <td>Yorkshire and the Humber</td>\n",
       "      <td>60</td>\n",
       "    </tr>\n",
       "    <tr>\n",
       "      <th>149</th>\n",
       "      <td>White: English/Welsh/Scottish/Northern Irish/B...</td>\n",
       "      <td>Wales</td>\n",
       "      <td>31</td>\n",
       "    </tr>\n",
       "  </tbody>\n",
       "</table>\n",
       "<p>150 rows × 3 columns</p>\n",
       "</div>"
      ],
      "text/plain": [
       "                                     ethnicityew_names  \\\n",
       "0    White: English/Welsh/Scottish/Northern Irish/B...   \n",
       "1    White: English/Welsh/Scottish/Northern Irish/B...   \n",
       "2    White: English/Welsh/Scottish/Northern Irish/B...   \n",
       "3     Student/schoolchild living away during term-time   \n",
       "4    White: English/Welsh/Scottish/Northern Irish/B...   \n",
       "..                                                 ...   \n",
       "145  White: English/Welsh/Scottish/Northern Irish/B...   \n",
       "146  White: English/Welsh/Scottish/Northern Irish/B...   \n",
       "147  White: English/Welsh/Scottish/Northern Irish/B...   \n",
       "148  White: English/Welsh/Scottish/Northern Irish/B...   \n",
       "149  White: English/Welsh/Scottish/Northern Irish/B...   \n",
       "\n",
       "                 region_names  age  \n",
       "0                  North West   70  \n",
       "1               East Midlands   48  \n",
       "2               East Midlands   60  \n",
       "3                Outer London   22  \n",
       "4             East of England   28  \n",
       "..                        ...  ...  \n",
       "145             West Midlands    0  \n",
       "146                     Wales   52  \n",
       "147              Outer London   85  \n",
       "148  Yorkshire and the Humber   60  \n",
       "149                     Wales   31  \n",
       "\n",
       "[150 rows x 3 columns]"
      ]
     },
     "execution_count": 55,
     "metadata": {},
     "output_type": "execute_result"
    }
   ],
   "source": [
    "region_mirco_census[['ethnicityew_names', 'region_names', 'age']]"
   ]
  },
  {
   "cell_type": "code",
   "execution_count": 56,
   "id": "appropriate-dinner",
   "metadata": {},
   "outputs": [
    {
     "data": {
      "text/html": [
       "<div>\n",
       "<style scoped>\n",
       "    .dataframe tbody tr th:only-of-type {\n",
       "        vertical-align: middle;\n",
       "    }\n",
       "\n",
       "    .dataframe tbody tr th {\n",
       "        vertical-align: top;\n",
       "    }\n",
       "\n",
       "    .dataframe thead th {\n",
       "        text-align: right;\n",
       "    }\n",
       "</style>\n",
       "<table border=\"1\" class=\"dataframe\">\n",
       "  <thead>\n",
       "    <tr style=\"text-align: right;\">\n",
       "      <th></th>\n",
       "      <th>Unnamed: 0</th>\n",
       "      <th>caseno</th>\n",
       "      <th>country</th>\n",
       "      <th>region</th>\n",
       "      <th>add1yr</th>\n",
       "      <th>age</th>\n",
       "      <th>agehrp</th>\n",
       "      <th>aggdtwpew11g</th>\n",
       "      <th>ahchuk11</th>\n",
       "      <th>carer</th>\n",
       "      <th>...</th>\n",
       "      <th>wlshread</th>\n",
       "      <th>wlshspeak</th>\n",
       "      <th>wlshstnd</th>\n",
       "      <th>wlshwrit</th>\n",
       "      <th>wpzhome</th>\n",
       "      <th>wrkplaceew</th>\n",
       "      <th>yradindstud</th>\n",
       "      <th>yrarryearg</th>\n",
       "      <th>region_names</th>\n",
       "      <th>ethnicityew_names</th>\n",
       "    </tr>\n",
       "  </thead>\n",
       "  <tbody>\n",
       "    <tr>\n",
       "      <th>0</th>\n",
       "      <td>1378368</td>\n",
       "      <td>353359</td>\n",
       "      <td>1</td>\n",
       "      <td>2</td>\n",
       "      <td>1</td>\n",
       "      <td>70</td>\n",
       "      <td>70</td>\n",
       "      <td>-9</td>\n",
       "      <td>5</td>\n",
       "      <td>1</td>\n",
       "      <td>...</td>\n",
       "      <td>-9</td>\n",
       "      <td>-9</td>\n",
       "      <td>-9</td>\n",
       "      <td>-9</td>\n",
       "      <td>-9</td>\n",
       "      <td>-9</td>\n",
       "      <td>0</td>\n",
       "      <td>-9</td>\n",
       "      <td>North West</td>\n",
       "      <td>White: English/Welsh/Scottish/Northern Irish/B...</td>\n",
       "    </tr>\n",
       "    <tr>\n",
       "      <th>1</th>\n",
       "      <td>1464864</td>\n",
       "      <td>1217543</td>\n",
       "      <td>1</td>\n",
       "      <td>4</td>\n",
       "      <td>1</td>\n",
       "      <td>48</td>\n",
       "      <td>50</td>\n",
       "      <td>4</td>\n",
       "      <td>7</td>\n",
       "      <td>1</td>\n",
       "      <td>...</td>\n",
       "      <td>-9</td>\n",
       "      <td>-9</td>\n",
       "      <td>-9</td>\n",
       "      <td>-9</td>\n",
       "      <td>4</td>\n",
       "      <td>4</td>\n",
       "      <td>0</td>\n",
       "      <td>-9</td>\n",
       "      <td>East Midlands</td>\n",
       "      <td>White: English/Welsh/Scottish/Northern Irish/B...</td>\n",
       "    </tr>\n",
       "    <tr>\n",
       "      <th>2</th>\n",
       "      <td>1664727</td>\n",
       "      <td>2436424</td>\n",
       "      <td>1</td>\n",
       "      <td>4</td>\n",
       "      <td>1</td>\n",
       "      <td>60</td>\n",
       "      <td>58</td>\n",
       "      <td>-9</td>\n",
       "      <td>10</td>\n",
       "      <td>1</td>\n",
       "      <td>...</td>\n",
       "      <td>-9</td>\n",
       "      <td>-9</td>\n",
       "      <td>-9</td>\n",
       "      <td>-9</td>\n",
       "      <td>-9</td>\n",
       "      <td>-9</td>\n",
       "      <td>0</td>\n",
       "      <td>-9</td>\n",
       "      <td>East Midlands</td>\n",
       "      <td>White: English/Welsh/Scottish/Northern Irish/B...</td>\n",
       "    </tr>\n",
       "    <tr>\n",
       "      <th>3</th>\n",
       "      <td>2133180</td>\n",
       "      <td>336318</td>\n",
       "      <td>1</td>\n",
       "      <td>8</td>\n",
       "      <td>-9</td>\n",
       "      <td>22</td>\n",
       "      <td>80</td>\n",
       "      <td>-9</td>\n",
       "      <td>1</td>\n",
       "      <td>-9</td>\n",
       "      <td>...</td>\n",
       "      <td>-9</td>\n",
       "      <td>-9</td>\n",
       "      <td>-9</td>\n",
       "      <td>-9</td>\n",
       "      <td>-9</td>\n",
       "      <td>-9</td>\n",
       "      <td>-9</td>\n",
       "      <td>-9</td>\n",
       "      <td>Outer London</td>\n",
       "      <td>Student/schoolchild living away during term-time</td>\n",
       "    </tr>\n",
       "    <tr>\n",
       "      <th>4</th>\n",
       "      <td>2300839</td>\n",
       "      <td>2588903</td>\n",
       "      <td>1</td>\n",
       "      <td>6</td>\n",
       "      <td>1</td>\n",
       "      <td>28</td>\n",
       "      <td>55</td>\n",
       "      <td>-9</td>\n",
       "      <td>10</td>\n",
       "      <td>1</td>\n",
       "      <td>...</td>\n",
       "      <td>-9</td>\n",
       "      <td>-9</td>\n",
       "      <td>-9</td>\n",
       "      <td>-9</td>\n",
       "      <td>-9</td>\n",
       "      <td>-9</td>\n",
       "      <td>0</td>\n",
       "      <td>-9</td>\n",
       "      <td>East of England</td>\n",
       "      <td>White: English/Welsh/Scottish/Northern Irish/B...</td>\n",
       "    </tr>\n",
       "    <tr>\n",
       "      <th>...</th>\n",
       "      <td>...</td>\n",
       "      <td>...</td>\n",
       "      <td>...</td>\n",
       "      <td>...</td>\n",
       "      <td>...</td>\n",
       "      <td>...</td>\n",
       "      <td>...</td>\n",
       "      <td>...</td>\n",
       "      <td>...</td>\n",
       "      <td>...</td>\n",
       "      <td>...</td>\n",
       "      <td>...</td>\n",
       "      <td>...</td>\n",
       "      <td>...</td>\n",
       "      <td>...</td>\n",
       "      <td>...</td>\n",
       "      <td>...</td>\n",
       "      <td>...</td>\n",
       "      <td>...</td>\n",
       "      <td>...</td>\n",
       "      <td>...</td>\n",
       "    </tr>\n",
       "    <tr>\n",
       "      <th>145</th>\n",
       "      <td>1575667</td>\n",
       "      <td>679608</td>\n",
       "      <td>1</td>\n",
       "      <td>5</td>\n",
       "      <td>-9</td>\n",
       "      <td>0</td>\n",
       "      <td>22</td>\n",
       "      <td>-9</td>\n",
       "      <td>6</td>\n",
       "      <td>1</td>\n",
       "      <td>...</td>\n",
       "      <td>-9</td>\n",
       "      <td>-9</td>\n",
       "      <td>-9</td>\n",
       "      <td>-9</td>\n",
       "      <td>-9</td>\n",
       "      <td>-9</td>\n",
       "      <td>-9</td>\n",
       "      <td>-9</td>\n",
       "      <td>West Midlands</td>\n",
       "      <td>White: English/Welsh/Scottish/Northern Irish/B...</td>\n",
       "    </tr>\n",
       "    <tr>\n",
       "      <th>146</th>\n",
       "      <td>2150097</td>\n",
       "      <td>1656603</td>\n",
       "      <td>2</td>\n",
       "      <td>11</td>\n",
       "      <td>1</td>\n",
       "      <td>52</td>\n",
       "      <td>52</td>\n",
       "      <td>3</td>\n",
       "      <td>10</td>\n",
       "      <td>1</td>\n",
       "      <td>...</td>\n",
       "      <td>0</td>\n",
       "      <td>0</td>\n",
       "      <td>0</td>\n",
       "      <td>0</td>\n",
       "      <td>3</td>\n",
       "      <td>3</td>\n",
       "      <td>0</td>\n",
       "      <td>-9</td>\n",
       "      <td>Wales</td>\n",
       "      <td>White: English/Welsh/Scottish/Northern Irish/B...</td>\n",
       "    </tr>\n",
       "    <tr>\n",
       "      <th>147</th>\n",
       "      <td>143697</td>\n",
       "      <td>2051830</td>\n",
       "      <td>1</td>\n",
       "      <td>8</td>\n",
       "      <td>1</td>\n",
       "      <td>85</td>\n",
       "      <td>85</td>\n",
       "      <td>-9</td>\n",
       "      <td>1</td>\n",
       "      <td>1</td>\n",
       "      <td>...</td>\n",
       "      <td>-9</td>\n",
       "      <td>-9</td>\n",
       "      <td>-9</td>\n",
       "      <td>-9</td>\n",
       "      <td>-9</td>\n",
       "      <td>-9</td>\n",
       "      <td>0</td>\n",
       "      <td>-9</td>\n",
       "      <td>Outer London</td>\n",
       "      <td>White: English/Welsh/Scottish/Northern Irish/B...</td>\n",
       "    </tr>\n",
       "    <tr>\n",
       "      <th>148</th>\n",
       "      <td>169620</td>\n",
       "      <td>862893</td>\n",
       "      <td>1</td>\n",
       "      <td>3</td>\n",
       "      <td>1</td>\n",
       "      <td>60</td>\n",
       "      <td>60</td>\n",
       "      <td>6</td>\n",
       "      <td>9</td>\n",
       "      <td>1</td>\n",
       "      <td>...</td>\n",
       "      <td>-9</td>\n",
       "      <td>-9</td>\n",
       "      <td>-9</td>\n",
       "      <td>-9</td>\n",
       "      <td>4</td>\n",
       "      <td>4</td>\n",
       "      <td>0</td>\n",
       "      <td>-9</td>\n",
       "      <td>Yorkshire and the Humber</td>\n",
       "      <td>White: English/Welsh/Scottish/Northern Irish/B...</td>\n",
       "    </tr>\n",
       "    <tr>\n",
       "      <th>149</th>\n",
       "      <td>2559978</td>\n",
       "      <td>1705147</td>\n",
       "      <td>2</td>\n",
       "      <td>11</td>\n",
       "      <td>1</td>\n",
       "      <td>31</td>\n",
       "      <td>31</td>\n",
       "      <td>3</td>\n",
       "      <td>7</td>\n",
       "      <td>1</td>\n",
       "      <td>...</td>\n",
       "      <td>0</td>\n",
       "      <td>0</td>\n",
       "      <td>0</td>\n",
       "      <td>0</td>\n",
       "      <td>4</td>\n",
       "      <td>4</td>\n",
       "      <td>0</td>\n",
       "      <td>-9</td>\n",
       "      <td>Wales</td>\n",
       "      <td>White: English/Welsh/Scottish/Northern Irish/B...</td>\n",
       "    </tr>\n",
       "  </tbody>\n",
       "</table>\n",
       "<p>150 rows × 124 columns</p>\n",
       "</div>"
      ],
      "text/plain": [
       "     Unnamed: 0   caseno  country  region  add1yr  age  agehrp  aggdtwpew11g  \\\n",
       "0       1378368   353359        1       2       1   70      70            -9   \n",
       "1       1464864  1217543        1       4       1   48      50             4   \n",
       "2       1664727  2436424        1       4       1   60      58            -9   \n",
       "3       2133180   336318        1       8      -9   22      80            -9   \n",
       "4       2300839  2588903        1       6       1   28      55            -9   \n",
       "..          ...      ...      ...     ...     ...  ...     ...           ...   \n",
       "145     1575667   679608        1       5      -9    0      22            -9   \n",
       "146     2150097  1656603        2      11       1   52      52             3   \n",
       "147      143697  2051830        1       8       1   85      85            -9   \n",
       "148      169620   862893        1       3       1   60      60             6   \n",
       "149     2559978  1705147        2      11       1   31      31             3   \n",
       "\n",
       "     ahchuk11  carer  ...  wlshread  wlshspeak  wlshstnd  wlshwrit  wpzhome  \\\n",
       "0           5      1  ...        -9         -9        -9        -9       -9   \n",
       "1           7      1  ...        -9         -9        -9        -9        4   \n",
       "2          10      1  ...        -9         -9        -9        -9       -9   \n",
       "3           1     -9  ...        -9         -9        -9        -9       -9   \n",
       "4          10      1  ...        -9         -9        -9        -9       -9   \n",
       "..        ...    ...  ...       ...        ...       ...       ...      ...   \n",
       "145         6      1  ...        -9         -9        -9        -9       -9   \n",
       "146        10      1  ...         0          0         0         0        3   \n",
       "147         1      1  ...        -9         -9        -9        -9       -9   \n",
       "148         9      1  ...        -9         -9        -9        -9        4   \n",
       "149         7      1  ...         0          0         0         0        4   \n",
       "\n",
       "     wrkplaceew  yradindstud  yrarryearg              region_names  \\\n",
       "0            -9            0          -9                North West   \n",
       "1             4            0          -9             East Midlands   \n",
       "2            -9            0          -9             East Midlands   \n",
       "3            -9           -9          -9              Outer London   \n",
       "4            -9            0          -9           East of England   \n",
       "..          ...          ...         ...                       ...   \n",
       "145          -9           -9          -9             West Midlands   \n",
       "146           3            0          -9                     Wales   \n",
       "147          -9            0          -9              Outer London   \n",
       "148           4            0          -9  Yorkshire and the Humber   \n",
       "149           4            0          -9                     Wales   \n",
       "\n",
       "                                     ethnicityew_names  \n",
       "0    White: English/Welsh/Scottish/Northern Irish/B...  \n",
       "1    White: English/Welsh/Scottish/Northern Irish/B...  \n",
       "2    White: English/Welsh/Scottish/Northern Irish/B...  \n",
       "3     Student/schoolchild living away during term-time  \n",
       "4    White: English/Welsh/Scottish/Northern Irish/B...  \n",
       "..                                                 ...  \n",
       "145  White: English/Welsh/Scottish/Northern Irish/B...  \n",
       "146  White: English/Welsh/Scottish/Northern Irish/B...  \n",
       "147  White: English/Welsh/Scottish/Northern Irish/B...  \n",
       "148  White: English/Welsh/Scottish/Northern Irish/B...  \n",
       "149  White: English/Welsh/Scottish/Northern Irish/B...  \n",
       "\n",
       "[150 rows x 124 columns]"
      ]
     },
     "execution_count": 56,
     "metadata": {},
     "output_type": "execute_result"
    }
   ],
   "source": [
    "region_mirco_census"
   ]
  },
  {
   "cell_type": "code",
   "execution_count": 57,
   "id": "obvious-above",
   "metadata": {},
   "outputs": [
    {
     "data": {
      "application/vnd.plotly.v1+json": {
       "config": {
        "plotlyServerURL": "https://plot.ly"
       },
       "data": [
        {
         "histnorm": "percent",
         "type": "histogram",
         "x": [
          "White: English/Welsh/Scottish/Northern Irish/British",
          "White: English/Welsh/Scottish/Northern Irish/British",
          "White: English/Welsh/Scottish/Northern Irish/British",
          "Student/schoolchild living away during term-time",
          "White: English/Welsh/Scottish/Northern Irish/British",
          "White: English/Welsh/Scottish/Northern Irish/British",
          "White: English/Welsh/Scottish/Northern Irish/British",
          "White: English/Welsh/Scottish/Northern Irish/British",
          "White: Other White",
          "White: English/Welsh/Scottish/Northern Irish/British",
          "White: English/Welsh/Scottish/Northern Irish/British",
          "Asian/Asian British: Bangladeshi",
          "White: English/Welsh/Scottish/Northern Irish/British",
          "White: English/Welsh/Scottish/Northern Irish/British",
          "Mixed/multiple ethnic group: White and Asian",
          "White: English/Welsh/Scottish/Northern Irish/British",
          "White: English/Welsh/Scottish/Northern Irish/British",
          "White: English/Welsh/Scottish/Northern Irish/British",
          "White: English/Welsh/Scottish/Northern Irish/British",
          "White: English/Welsh/Scottish/Northern Irish/British",
          "White: English/Welsh/Scottish/Northern Irish/British",
          "White: English/Welsh/Scottish/Northern Irish/British",
          "White: English/Welsh/Scottish/Northern Irish/British",
          "White: English/Welsh/Scottish/Northern Irish/British",
          "White: English/Welsh/Scottish/Northern Irish/British",
          "White: English/Welsh/Scottish/Northern Irish/British",
          "White: English/Welsh/Scottish/Northern Irish/British",
          "Black/African/Caribbean/Black British: African",
          "White: English/Welsh/Scottish/Northern Irish/British",
          "White: English/Welsh/Scottish/Northern Irish/British",
          "White: English/Welsh/Scottish/Northern Irish/British",
          "White: English/Welsh/Scottish/Northern Irish/British",
          "White: English/Welsh/Scottish/Northern Irish/British",
          "White: English/Welsh/Scottish/Northern Irish/British",
          "White: English/Welsh/Scottish/Northern Irish/British",
          "White: English/Welsh/Scottish/Northern Irish/British",
          "White: English/Welsh/Scottish/Northern Irish/British",
          "White: English/Welsh/Scottish/Northern Irish/British",
          "Student/schoolchild living away during term-time",
          "Other ethnic group: Any other ethnic group",
          "Asian/Asian British: Indian",
          "White: English/Welsh/Scottish/Northern Irish/British",
          "White: English/Welsh/Scottish/Northern Irish/British",
          "White: English/Welsh/Scottish/Northern Irish/British",
          "Asian/Asian British: Indian",
          "White: English/Welsh/Scottish/Northern Irish/British",
          "Mixed/multiple ethnic group: White and Asian",
          "White: English/Welsh/Scottish/Northern Irish/British",
          "Student/schoolchild living away during term-time",
          "White: English/Welsh/Scottish/Northern Irish/British",
          "White: English/Welsh/Scottish/Northern Irish/British",
          "White: English/Welsh/Scottish/Northern Irish/British",
          "White: English/Welsh/Scottish/Northern Irish/British",
          "Asian/Asian British: Chinese",
          "Black/African/Caribbean/Black British: Caribbean",
          "White: English/Welsh/Scottish/Northern Irish/British",
          "White: English/Welsh/Scottish/Northern Irish/British",
          "White: English/Welsh/Scottish/Northern Irish/British",
          "White: English/Welsh/Scottish/Northern Irish/British",
          "White: English/Welsh/Scottish/Northern Irish/British",
          "White: English/Welsh/Scottish/Northern Irish/British",
          "White: Other White",
          "White: English/Welsh/Scottish/Northern Irish/British",
          "White: English/Welsh/Scottish/Northern Irish/British",
          "White: English/Welsh/Scottish/Northern Irish/British",
          "White: English/Welsh/Scottish/Northern Irish/British",
          "Black/African/Caribbean/Black British: African",
          "White: English/Welsh/Scottish/Northern Irish/British",
          "White: English/Welsh/Scottish/Northern Irish/British",
          "White: English/Welsh/Scottish/Northern Irish/British",
          "Student/schoolchild living away during term-time",
          "White: English/Welsh/Scottish/Northern Irish/British",
          "White: English/Welsh/Scottish/Northern Irish/British",
          "White: English/Welsh/Scottish/Northern Irish/British",
          "White: English/Welsh/Scottish/Northern Irish/British",
          "White: English/Welsh/Scottish/Northern Irish/British",
          "Other ethnic group: Arab",
          "White: English/Welsh/Scottish/Northern Irish/British",
          "White: English/Welsh/Scottish/Northern Irish/British",
          "Asian/Asian British: Other Asian",
          "Black/African/Caribbean/Black British: African",
          "White: English/Welsh/Scottish/Northern Irish/British",
          "White: English/Welsh/Scottish/Northern Irish/British",
          "White: English/Welsh/Scottish/Northern Irish/British",
          "White: Irish",
          "Black/African/Caribbean/Black British: African",
          "White: English/Welsh/Scottish/Northern Irish/British",
          "White: Other White",
          "White: English/Welsh/Scottish/Northern Irish/British",
          "White: English/Welsh/Scottish/Northern Irish/British",
          "Asian/Asian British: Indian",
          "White: English/Welsh/Scottish/Northern Irish/British",
          "White: English/Welsh/Scottish/Northern Irish/British",
          "White: English/Welsh/Scottish/Northern Irish/British",
          "White: English/Welsh/Scottish/Northern Irish/British",
          "White: English/Welsh/Scottish/Northern Irish/British",
          "White: English/Welsh/Scottish/Northern Irish/British",
          "White: English/Welsh/Scottish/Northern Irish/British",
          "White: Other White",
          "White: English/Welsh/Scottish/Northern Irish/British",
          "White: Other White",
          "White: English/Welsh/Scottish/Northern Irish/British",
          "White: English/Welsh/Scottish/Northern Irish/British",
          "White: English/Welsh/Scottish/Northern Irish/British",
          "White: Other White",
          "White: English/Welsh/Scottish/Northern Irish/British",
          "White: English/Welsh/Scottish/Northern Irish/British",
          "White: English/Welsh/Scottish/Northern Irish/British",
          "White: English/Welsh/Scottish/Northern Irish/British",
          "Black/African/Caribbean/Black British: Caribbean",
          "White: English/Welsh/Scottish/Northern Irish/British",
          "White: English/Welsh/Scottish/Northern Irish/British",
          "White: English/Welsh/Scottish/Northern Irish/British",
          "White: English/Welsh/Scottish/Northern Irish/British",
          "White: English/Welsh/Scottish/Northern Irish/British",
          "Mixed/multiple ethnic group: White and Black Caribbean",
          "White: English/Welsh/Scottish/Northern Irish/British",
          "White: English/Welsh/Scottish/Northern Irish/British",
          "White: Other White",
          "White: English/Welsh/Scottish/Northern Irish/British",
          "White: English/Welsh/Scottish/Northern Irish/British",
          "White: English/Welsh/Scottish/Northern Irish/British",
          "Black/African/Caribbean/Black British: Caribbean",
          "White: English/Welsh/Scottish/Northern Irish/British",
          "Mixed/multiple ethnic group: White and Black Caribbean",
          "Black/African/Caribbean/Black British: Other Black",
          "White: English/Welsh/Scottish/Northern Irish/British",
          "White: English/Welsh/Scottish/Northern Irish/British",
          "White: English/Welsh/Scottish/Northern Irish/British",
          "White: English/Welsh/Scottish/Northern Irish/British",
          "White: English/Welsh/Scottish/Northern Irish/British",
          "White: English/Welsh/Scottish/Northern Irish/British",
          "White: English/Welsh/Scottish/Northern Irish/British",
          "White: English/Welsh/Scottish/Northern Irish/British",
          "White: English/Welsh/Scottish/Northern Irish/British",
          "White: English/Welsh/Scottish/Northern Irish/British",
          "White: English/Welsh/Scottish/Northern Irish/British",
          "White: Other White",
          "Asian/Asian British: Bangladeshi",
          "White: English/Welsh/Scottish/Northern Irish/British",
          "White: English/Welsh/Scottish/Northern Irish/British",
          "Mixed/multiple ethnic group: White and Asian",
          "White: English/Welsh/Scottish/Northern Irish/British",
          "White: English/Welsh/Scottish/Northern Irish/British",
          "White: English/Welsh/Scottish/Northern Irish/British",
          "White: English/Welsh/Scottish/Northern Irish/British",
          "White: English/Welsh/Scottish/Northern Irish/British",
          "White: English/Welsh/Scottish/Northern Irish/British",
          "White: English/Welsh/Scottish/Northern Irish/British",
          "White: English/Welsh/Scottish/Northern Irish/British"
         ]
        }
       ],
       "layout": {
        "template": {
         "data": {
          "bar": [
           {
            "error_x": {
             "color": "#2a3f5f"
            },
            "error_y": {
             "color": "#2a3f5f"
            },
            "marker": {
             "line": {
              "color": "#E5ECF6",
              "width": 0.5
             }
            },
            "type": "bar"
           }
          ],
          "barpolar": [
           {
            "marker": {
             "line": {
              "color": "#E5ECF6",
              "width": 0.5
             }
            },
            "type": "barpolar"
           }
          ],
          "carpet": [
           {
            "aaxis": {
             "endlinecolor": "#2a3f5f",
             "gridcolor": "white",
             "linecolor": "white",
             "minorgridcolor": "white",
             "startlinecolor": "#2a3f5f"
            },
            "baxis": {
             "endlinecolor": "#2a3f5f",
             "gridcolor": "white",
             "linecolor": "white",
             "minorgridcolor": "white",
             "startlinecolor": "#2a3f5f"
            },
            "type": "carpet"
           }
          ],
          "choropleth": [
           {
            "colorbar": {
             "outlinewidth": 0,
             "ticks": ""
            },
            "type": "choropleth"
           }
          ],
          "contour": [
           {
            "colorbar": {
             "outlinewidth": 0,
             "ticks": ""
            },
            "colorscale": [
             [
              0,
              "#0d0887"
             ],
             [
              0.1111111111111111,
              "#46039f"
             ],
             [
              0.2222222222222222,
              "#7201a8"
             ],
             [
              0.3333333333333333,
              "#9c179e"
             ],
             [
              0.4444444444444444,
              "#bd3786"
             ],
             [
              0.5555555555555556,
              "#d8576b"
             ],
             [
              0.6666666666666666,
              "#ed7953"
             ],
             [
              0.7777777777777778,
              "#fb9f3a"
             ],
             [
              0.8888888888888888,
              "#fdca26"
             ],
             [
              1,
              "#f0f921"
             ]
            ],
            "type": "contour"
           }
          ],
          "contourcarpet": [
           {
            "colorbar": {
             "outlinewidth": 0,
             "ticks": ""
            },
            "type": "contourcarpet"
           }
          ],
          "heatmap": [
           {
            "colorbar": {
             "outlinewidth": 0,
             "ticks": ""
            },
            "colorscale": [
             [
              0,
              "#0d0887"
             ],
             [
              0.1111111111111111,
              "#46039f"
             ],
             [
              0.2222222222222222,
              "#7201a8"
             ],
             [
              0.3333333333333333,
              "#9c179e"
             ],
             [
              0.4444444444444444,
              "#bd3786"
             ],
             [
              0.5555555555555556,
              "#d8576b"
             ],
             [
              0.6666666666666666,
              "#ed7953"
             ],
             [
              0.7777777777777778,
              "#fb9f3a"
             ],
             [
              0.8888888888888888,
              "#fdca26"
             ],
             [
              1,
              "#f0f921"
             ]
            ],
            "type": "heatmap"
           }
          ],
          "heatmapgl": [
           {
            "colorbar": {
             "outlinewidth": 0,
             "ticks": ""
            },
            "colorscale": [
             [
              0,
              "#0d0887"
             ],
             [
              0.1111111111111111,
              "#46039f"
             ],
             [
              0.2222222222222222,
              "#7201a8"
             ],
             [
              0.3333333333333333,
              "#9c179e"
             ],
             [
              0.4444444444444444,
              "#bd3786"
             ],
             [
              0.5555555555555556,
              "#d8576b"
             ],
             [
              0.6666666666666666,
              "#ed7953"
             ],
             [
              0.7777777777777778,
              "#fb9f3a"
             ],
             [
              0.8888888888888888,
              "#fdca26"
             ],
             [
              1,
              "#f0f921"
             ]
            ],
            "type": "heatmapgl"
           }
          ],
          "histogram": [
           {
            "marker": {
             "colorbar": {
              "outlinewidth": 0,
              "ticks": ""
             }
            },
            "type": "histogram"
           }
          ],
          "histogram2d": [
           {
            "colorbar": {
             "outlinewidth": 0,
             "ticks": ""
            },
            "colorscale": [
             [
              0,
              "#0d0887"
             ],
             [
              0.1111111111111111,
              "#46039f"
             ],
             [
              0.2222222222222222,
              "#7201a8"
             ],
             [
              0.3333333333333333,
              "#9c179e"
             ],
             [
              0.4444444444444444,
              "#bd3786"
             ],
             [
              0.5555555555555556,
              "#d8576b"
             ],
             [
              0.6666666666666666,
              "#ed7953"
             ],
             [
              0.7777777777777778,
              "#fb9f3a"
             ],
             [
              0.8888888888888888,
              "#fdca26"
             ],
             [
              1,
              "#f0f921"
             ]
            ],
            "type": "histogram2d"
           }
          ],
          "histogram2dcontour": [
           {
            "colorbar": {
             "outlinewidth": 0,
             "ticks": ""
            },
            "colorscale": [
             [
              0,
              "#0d0887"
             ],
             [
              0.1111111111111111,
              "#46039f"
             ],
             [
              0.2222222222222222,
              "#7201a8"
             ],
             [
              0.3333333333333333,
              "#9c179e"
             ],
             [
              0.4444444444444444,
              "#bd3786"
             ],
             [
              0.5555555555555556,
              "#d8576b"
             ],
             [
              0.6666666666666666,
              "#ed7953"
             ],
             [
              0.7777777777777778,
              "#fb9f3a"
             ],
             [
              0.8888888888888888,
              "#fdca26"
             ],
             [
              1,
              "#f0f921"
             ]
            ],
            "type": "histogram2dcontour"
           }
          ],
          "mesh3d": [
           {
            "colorbar": {
             "outlinewidth": 0,
             "ticks": ""
            },
            "type": "mesh3d"
           }
          ],
          "parcoords": [
           {
            "line": {
             "colorbar": {
              "outlinewidth": 0,
              "ticks": ""
             }
            },
            "type": "parcoords"
           }
          ],
          "pie": [
           {
            "automargin": true,
            "type": "pie"
           }
          ],
          "scatter": [
           {
            "marker": {
             "colorbar": {
              "outlinewidth": 0,
              "ticks": ""
             }
            },
            "type": "scatter"
           }
          ],
          "scatter3d": [
           {
            "line": {
             "colorbar": {
              "outlinewidth": 0,
              "ticks": ""
             }
            },
            "marker": {
             "colorbar": {
              "outlinewidth": 0,
              "ticks": ""
             }
            },
            "type": "scatter3d"
           }
          ],
          "scattercarpet": [
           {
            "marker": {
             "colorbar": {
              "outlinewidth": 0,
              "ticks": ""
             }
            },
            "type": "scattercarpet"
           }
          ],
          "scattergeo": [
           {
            "marker": {
             "colorbar": {
              "outlinewidth": 0,
              "ticks": ""
             }
            },
            "type": "scattergeo"
           }
          ],
          "scattergl": [
           {
            "marker": {
             "colorbar": {
              "outlinewidth": 0,
              "ticks": ""
             }
            },
            "type": "scattergl"
           }
          ],
          "scattermapbox": [
           {
            "marker": {
             "colorbar": {
              "outlinewidth": 0,
              "ticks": ""
             }
            },
            "type": "scattermapbox"
           }
          ],
          "scatterpolar": [
           {
            "marker": {
             "colorbar": {
              "outlinewidth": 0,
              "ticks": ""
             }
            },
            "type": "scatterpolar"
           }
          ],
          "scatterpolargl": [
           {
            "marker": {
             "colorbar": {
              "outlinewidth": 0,
              "ticks": ""
             }
            },
            "type": "scatterpolargl"
           }
          ],
          "scatterternary": [
           {
            "marker": {
             "colorbar": {
              "outlinewidth": 0,
              "ticks": ""
             }
            },
            "type": "scatterternary"
           }
          ],
          "surface": [
           {
            "colorbar": {
             "outlinewidth": 0,
             "ticks": ""
            },
            "colorscale": [
             [
              0,
              "#0d0887"
             ],
             [
              0.1111111111111111,
              "#46039f"
             ],
             [
              0.2222222222222222,
              "#7201a8"
             ],
             [
              0.3333333333333333,
              "#9c179e"
             ],
             [
              0.4444444444444444,
              "#bd3786"
             ],
             [
              0.5555555555555556,
              "#d8576b"
             ],
             [
              0.6666666666666666,
              "#ed7953"
             ],
             [
              0.7777777777777778,
              "#fb9f3a"
             ],
             [
              0.8888888888888888,
              "#fdca26"
             ],
             [
              1,
              "#f0f921"
             ]
            ],
            "type": "surface"
           }
          ],
          "table": [
           {
            "cells": {
             "fill": {
              "color": "#EBF0F8"
             },
             "line": {
              "color": "white"
             }
            },
            "header": {
             "fill": {
              "color": "#C8D4E3"
             },
             "line": {
              "color": "white"
             }
            },
            "type": "table"
           }
          ]
         },
         "layout": {
          "annotationdefaults": {
           "arrowcolor": "#2a3f5f",
           "arrowhead": 0,
           "arrowwidth": 1
          },
          "autotypenumbers": "strict",
          "coloraxis": {
           "colorbar": {
            "outlinewidth": 0,
            "ticks": ""
           }
          },
          "colorscale": {
           "diverging": [
            [
             0,
             "#8e0152"
            ],
            [
             0.1,
             "#c51b7d"
            ],
            [
             0.2,
             "#de77ae"
            ],
            [
             0.3,
             "#f1b6da"
            ],
            [
             0.4,
             "#fde0ef"
            ],
            [
             0.5,
             "#f7f7f7"
            ],
            [
             0.6,
             "#e6f5d0"
            ],
            [
             0.7,
             "#b8e186"
            ],
            [
             0.8,
             "#7fbc41"
            ],
            [
             0.9,
             "#4d9221"
            ],
            [
             1,
             "#276419"
            ]
           ],
           "sequential": [
            [
             0,
             "#0d0887"
            ],
            [
             0.1111111111111111,
             "#46039f"
            ],
            [
             0.2222222222222222,
             "#7201a8"
            ],
            [
             0.3333333333333333,
             "#9c179e"
            ],
            [
             0.4444444444444444,
             "#bd3786"
            ],
            [
             0.5555555555555556,
             "#d8576b"
            ],
            [
             0.6666666666666666,
             "#ed7953"
            ],
            [
             0.7777777777777778,
             "#fb9f3a"
            ],
            [
             0.8888888888888888,
             "#fdca26"
            ],
            [
             1,
             "#f0f921"
            ]
           ],
           "sequentialminus": [
            [
             0,
             "#0d0887"
            ],
            [
             0.1111111111111111,
             "#46039f"
            ],
            [
             0.2222222222222222,
             "#7201a8"
            ],
            [
             0.3333333333333333,
             "#9c179e"
            ],
            [
             0.4444444444444444,
             "#bd3786"
            ],
            [
             0.5555555555555556,
             "#d8576b"
            ],
            [
             0.6666666666666666,
             "#ed7953"
            ],
            [
             0.7777777777777778,
             "#fb9f3a"
            ],
            [
             0.8888888888888888,
             "#fdca26"
            ],
            [
             1,
             "#f0f921"
            ]
           ]
          },
          "colorway": [
           "#636efa",
           "#EF553B",
           "#00cc96",
           "#ab63fa",
           "#FFA15A",
           "#19d3f3",
           "#FF6692",
           "#B6E880",
           "#FF97FF",
           "#FECB52"
          ],
          "font": {
           "color": "#2a3f5f"
          },
          "geo": {
           "bgcolor": "white",
           "lakecolor": "white",
           "landcolor": "#E5ECF6",
           "showlakes": true,
           "showland": true,
           "subunitcolor": "white"
          },
          "hoverlabel": {
           "align": "left"
          },
          "hovermode": "closest",
          "mapbox": {
           "style": "light"
          },
          "paper_bgcolor": "white",
          "plot_bgcolor": "#E5ECF6",
          "polar": {
           "angularaxis": {
            "gridcolor": "white",
            "linecolor": "white",
            "ticks": ""
           },
           "bgcolor": "#E5ECF6",
           "radialaxis": {
            "gridcolor": "white",
            "linecolor": "white",
            "ticks": ""
           }
          },
          "scene": {
           "xaxis": {
            "backgroundcolor": "#E5ECF6",
            "gridcolor": "white",
            "gridwidth": 2,
            "linecolor": "white",
            "showbackground": true,
            "ticks": "",
            "zerolinecolor": "white"
           },
           "yaxis": {
            "backgroundcolor": "#E5ECF6",
            "gridcolor": "white",
            "gridwidth": 2,
            "linecolor": "white",
            "showbackground": true,
            "ticks": "",
            "zerolinecolor": "white"
           },
           "zaxis": {
            "backgroundcolor": "#E5ECF6",
            "gridcolor": "white",
            "gridwidth": 2,
            "linecolor": "white",
            "showbackground": true,
            "ticks": "",
            "zerolinecolor": "white"
           }
          },
          "shapedefaults": {
           "line": {
            "color": "#2a3f5f"
           }
          },
          "ternary": {
           "aaxis": {
            "gridcolor": "white",
            "linecolor": "white",
            "ticks": ""
           },
           "baxis": {
            "gridcolor": "white",
            "linecolor": "white",
            "ticks": ""
           },
           "bgcolor": "#E5ECF6",
           "caxis": {
            "gridcolor": "white",
            "linecolor": "white",
            "ticks": ""
           }
          },
          "title": {
           "x": 0.05
          },
          "xaxis": {
           "automargin": true,
           "gridcolor": "white",
           "linecolor": "white",
           "ticks": "",
           "title": {
            "standoff": 15
           },
           "zerolinecolor": "white",
           "zerolinewidth": 2
          },
          "yaxis": {
           "automargin": true,
           "gridcolor": "white",
           "linecolor": "white",
           "ticks": "",
           "title": {
            "standoff": 15
           },
           "zerolinecolor": "white",
           "zerolinewidth": 2
          }
         }
        },
        "title": {
         "text": "Ethnicity"
        }
       }
      },
      "text/html": [
       "<div>                            <div id=\"a9722a57-4ad0-4970-8039-ff2642019e34\" class=\"plotly-graph-div\" style=\"height:525px; width:100%;\"></div>            <script type=\"text/javascript\">                require([\"plotly\"], function(Plotly) {                    window.PLOTLYENV=window.PLOTLYENV || {};                                    if (document.getElementById(\"a9722a57-4ad0-4970-8039-ff2642019e34\")) {                    Plotly.newPlot(                        \"a9722a57-4ad0-4970-8039-ff2642019e34\",                        [{\"histnorm\": \"percent\", \"type\": \"histogram\", \"x\": [\"White: English/Welsh/Scottish/Northern Irish/British\", \"White: English/Welsh/Scottish/Northern Irish/British\", \"White: English/Welsh/Scottish/Northern Irish/British\", \"Student/schoolchild living away during term-time\", \"White: English/Welsh/Scottish/Northern Irish/British\", \"White: English/Welsh/Scottish/Northern Irish/British\", \"White: English/Welsh/Scottish/Northern Irish/British\", \"White: English/Welsh/Scottish/Northern Irish/British\", \"White: Other White\", \"White: English/Welsh/Scottish/Northern Irish/British\", \"White: English/Welsh/Scottish/Northern Irish/British\", \"Asian/Asian British: Bangladeshi\", \"White: English/Welsh/Scottish/Northern Irish/British\", \"White: English/Welsh/Scottish/Northern Irish/British\", \"Mixed/multiple ethnic group: White and Asian\", \"White: English/Welsh/Scottish/Northern Irish/British\", \"White: English/Welsh/Scottish/Northern Irish/British\", \"White: English/Welsh/Scottish/Northern Irish/British\", \"White: English/Welsh/Scottish/Northern Irish/British\", \"White: English/Welsh/Scottish/Northern Irish/British\", \"White: English/Welsh/Scottish/Northern Irish/British\", \"White: English/Welsh/Scottish/Northern Irish/British\", \"White: English/Welsh/Scottish/Northern Irish/British\", \"White: English/Welsh/Scottish/Northern Irish/British\", \"White: English/Welsh/Scottish/Northern Irish/British\", \"White: English/Welsh/Scottish/Northern Irish/British\", \"White: English/Welsh/Scottish/Northern Irish/British\", \"Black/African/Caribbean/Black British: African\", \"White: English/Welsh/Scottish/Northern Irish/British\", \"White: English/Welsh/Scottish/Northern Irish/British\", \"White: English/Welsh/Scottish/Northern Irish/British\", \"White: English/Welsh/Scottish/Northern Irish/British\", \"White: English/Welsh/Scottish/Northern Irish/British\", \"White: English/Welsh/Scottish/Northern Irish/British\", \"White: English/Welsh/Scottish/Northern Irish/British\", \"White: English/Welsh/Scottish/Northern Irish/British\", \"White: English/Welsh/Scottish/Northern Irish/British\", \"White: English/Welsh/Scottish/Northern Irish/British\", \"Student/schoolchild living away during term-time\", \"Other ethnic group: Any other ethnic group\", \"Asian/Asian British: Indian\", \"White: English/Welsh/Scottish/Northern Irish/British\", \"White: English/Welsh/Scottish/Northern Irish/British\", \"White: English/Welsh/Scottish/Northern Irish/British\", \"Asian/Asian British: Indian\", \"White: English/Welsh/Scottish/Northern Irish/British\", \"Mixed/multiple ethnic group: White and Asian\", \"White: English/Welsh/Scottish/Northern Irish/British\", \"Student/schoolchild living away during term-time\", \"White: English/Welsh/Scottish/Northern Irish/British\", \"White: English/Welsh/Scottish/Northern Irish/British\", \"White: English/Welsh/Scottish/Northern Irish/British\", \"White: English/Welsh/Scottish/Northern Irish/British\", \"Asian/Asian British: Chinese\", \"Black/African/Caribbean/Black British: Caribbean\", \"White: English/Welsh/Scottish/Northern Irish/British\", \"White: English/Welsh/Scottish/Northern Irish/British\", \"White: English/Welsh/Scottish/Northern Irish/British\", \"White: English/Welsh/Scottish/Northern Irish/British\", \"White: English/Welsh/Scottish/Northern Irish/British\", \"White: English/Welsh/Scottish/Northern Irish/British\", \"White: Other White\", \"White: English/Welsh/Scottish/Northern Irish/British\", \"White: English/Welsh/Scottish/Northern Irish/British\", \"White: English/Welsh/Scottish/Northern Irish/British\", \"White: English/Welsh/Scottish/Northern Irish/British\", \"Black/African/Caribbean/Black British: African\", \"White: English/Welsh/Scottish/Northern Irish/British\", \"White: English/Welsh/Scottish/Northern Irish/British\", \"White: English/Welsh/Scottish/Northern Irish/British\", \"Student/schoolchild living away during term-time\", \"White: English/Welsh/Scottish/Northern Irish/British\", \"White: English/Welsh/Scottish/Northern Irish/British\", \"White: English/Welsh/Scottish/Northern Irish/British\", \"White: English/Welsh/Scottish/Northern Irish/British\", \"White: English/Welsh/Scottish/Northern Irish/British\", \"Other ethnic group: Arab\", \"White: English/Welsh/Scottish/Northern Irish/British\", \"White: English/Welsh/Scottish/Northern Irish/British\", \"Asian/Asian British: Other Asian\", \"Black/African/Caribbean/Black British: African\", \"White: English/Welsh/Scottish/Northern Irish/British\", \"White: English/Welsh/Scottish/Northern Irish/British\", \"White: English/Welsh/Scottish/Northern Irish/British\", \"White: Irish\", \"Black/African/Caribbean/Black British: African\", \"White: English/Welsh/Scottish/Northern Irish/British\", \"White: Other White\", \"White: English/Welsh/Scottish/Northern Irish/British\", \"White: English/Welsh/Scottish/Northern Irish/British\", \"Asian/Asian British: Indian\", \"White: English/Welsh/Scottish/Northern Irish/British\", \"White: English/Welsh/Scottish/Northern Irish/British\", \"White: English/Welsh/Scottish/Northern Irish/British\", \"White: English/Welsh/Scottish/Northern Irish/British\", \"White: English/Welsh/Scottish/Northern Irish/British\", \"White: English/Welsh/Scottish/Northern Irish/British\", \"White: English/Welsh/Scottish/Northern Irish/British\", \"White: Other White\", \"White: English/Welsh/Scottish/Northern Irish/British\", \"White: Other White\", \"White: English/Welsh/Scottish/Northern Irish/British\", \"White: English/Welsh/Scottish/Northern Irish/British\", \"White: English/Welsh/Scottish/Northern Irish/British\", \"White: Other White\", \"White: English/Welsh/Scottish/Northern Irish/British\", \"White: English/Welsh/Scottish/Northern Irish/British\", \"White: English/Welsh/Scottish/Northern Irish/British\", \"White: English/Welsh/Scottish/Northern Irish/British\", \"Black/African/Caribbean/Black British: Caribbean\", \"White: English/Welsh/Scottish/Northern Irish/British\", \"White: English/Welsh/Scottish/Northern Irish/British\", \"White: English/Welsh/Scottish/Northern Irish/British\", \"White: English/Welsh/Scottish/Northern Irish/British\", \"White: English/Welsh/Scottish/Northern Irish/British\", \"Mixed/multiple ethnic group: White and Black Caribbean\", \"White: English/Welsh/Scottish/Northern Irish/British\", \"White: English/Welsh/Scottish/Northern Irish/British\", \"White: Other White\", \"White: English/Welsh/Scottish/Northern Irish/British\", \"White: English/Welsh/Scottish/Northern Irish/British\", \"White: English/Welsh/Scottish/Northern Irish/British\", \"Black/African/Caribbean/Black British: Caribbean\", \"White: English/Welsh/Scottish/Northern Irish/British\", \"Mixed/multiple ethnic group: White and Black Caribbean\", \"Black/African/Caribbean/Black British: Other Black\", \"White: English/Welsh/Scottish/Northern Irish/British\", \"White: English/Welsh/Scottish/Northern Irish/British\", \"White: English/Welsh/Scottish/Northern Irish/British\", \"White: English/Welsh/Scottish/Northern Irish/British\", \"White: English/Welsh/Scottish/Northern Irish/British\", \"White: English/Welsh/Scottish/Northern Irish/British\", \"White: English/Welsh/Scottish/Northern Irish/British\", \"White: English/Welsh/Scottish/Northern Irish/British\", \"White: English/Welsh/Scottish/Northern Irish/British\", \"White: English/Welsh/Scottish/Northern Irish/British\", \"White: English/Welsh/Scottish/Northern Irish/British\", \"White: Other White\", \"Asian/Asian British: Bangladeshi\", \"White: English/Welsh/Scottish/Northern Irish/British\", \"White: English/Welsh/Scottish/Northern Irish/British\", \"Mixed/multiple ethnic group: White and Asian\", \"White: English/Welsh/Scottish/Northern Irish/British\", \"White: English/Welsh/Scottish/Northern Irish/British\", \"White: English/Welsh/Scottish/Northern Irish/British\", \"White: English/Welsh/Scottish/Northern Irish/British\", \"White: English/Welsh/Scottish/Northern Irish/British\", \"White: English/Welsh/Scottish/Northern Irish/British\", \"White: English/Welsh/Scottish/Northern Irish/British\", \"White: English/Welsh/Scottish/Northern Irish/British\"]}],                        {\"template\": {\"data\": {\"bar\": [{\"error_x\": {\"color\": \"#2a3f5f\"}, \"error_y\": {\"color\": \"#2a3f5f\"}, \"marker\": {\"line\": {\"color\": \"#E5ECF6\", \"width\": 0.5}}, \"type\": \"bar\"}], \"barpolar\": [{\"marker\": {\"line\": {\"color\": \"#E5ECF6\", \"width\": 0.5}}, \"type\": \"barpolar\"}], \"carpet\": [{\"aaxis\": {\"endlinecolor\": \"#2a3f5f\", \"gridcolor\": \"white\", \"linecolor\": \"white\", \"minorgridcolor\": \"white\", \"startlinecolor\": \"#2a3f5f\"}, \"baxis\": {\"endlinecolor\": \"#2a3f5f\", \"gridcolor\": \"white\", \"linecolor\": \"white\", \"minorgridcolor\": \"white\", \"startlinecolor\": \"#2a3f5f\"}, \"type\": \"carpet\"}], \"choropleth\": [{\"colorbar\": {\"outlinewidth\": 0, \"ticks\": \"\"}, \"type\": \"choropleth\"}], \"contour\": [{\"colorbar\": {\"outlinewidth\": 0, \"ticks\": \"\"}, \"colorscale\": [[0.0, \"#0d0887\"], [0.1111111111111111, \"#46039f\"], [0.2222222222222222, \"#7201a8\"], [0.3333333333333333, \"#9c179e\"], [0.4444444444444444, \"#bd3786\"], [0.5555555555555556, \"#d8576b\"], [0.6666666666666666, \"#ed7953\"], [0.7777777777777778, \"#fb9f3a\"], [0.8888888888888888, \"#fdca26\"], [1.0, \"#f0f921\"]], \"type\": \"contour\"}], \"contourcarpet\": [{\"colorbar\": {\"outlinewidth\": 0, \"ticks\": \"\"}, \"type\": \"contourcarpet\"}], \"heatmap\": [{\"colorbar\": {\"outlinewidth\": 0, \"ticks\": \"\"}, \"colorscale\": [[0.0, \"#0d0887\"], [0.1111111111111111, \"#46039f\"], [0.2222222222222222, \"#7201a8\"], [0.3333333333333333, \"#9c179e\"], [0.4444444444444444, \"#bd3786\"], [0.5555555555555556, \"#d8576b\"], [0.6666666666666666, \"#ed7953\"], [0.7777777777777778, \"#fb9f3a\"], [0.8888888888888888, \"#fdca26\"], [1.0, \"#f0f921\"]], \"type\": \"heatmap\"}], \"heatmapgl\": [{\"colorbar\": {\"outlinewidth\": 0, \"ticks\": \"\"}, \"colorscale\": [[0.0, \"#0d0887\"], [0.1111111111111111, \"#46039f\"], [0.2222222222222222, \"#7201a8\"], [0.3333333333333333, \"#9c179e\"], [0.4444444444444444, \"#bd3786\"], [0.5555555555555556, \"#d8576b\"], [0.6666666666666666, \"#ed7953\"], [0.7777777777777778, \"#fb9f3a\"], [0.8888888888888888, \"#fdca26\"], [1.0, \"#f0f921\"]], \"type\": \"heatmapgl\"}], \"histogram\": [{\"marker\": {\"colorbar\": {\"outlinewidth\": 0, \"ticks\": \"\"}}, \"type\": \"histogram\"}], \"histogram2d\": [{\"colorbar\": {\"outlinewidth\": 0, \"ticks\": \"\"}, \"colorscale\": [[0.0, \"#0d0887\"], [0.1111111111111111, \"#46039f\"], [0.2222222222222222, \"#7201a8\"], [0.3333333333333333, \"#9c179e\"], [0.4444444444444444, \"#bd3786\"], [0.5555555555555556, \"#d8576b\"], [0.6666666666666666, \"#ed7953\"], [0.7777777777777778, \"#fb9f3a\"], [0.8888888888888888, \"#fdca26\"], [1.0, \"#f0f921\"]], \"type\": \"histogram2d\"}], \"histogram2dcontour\": [{\"colorbar\": {\"outlinewidth\": 0, \"ticks\": \"\"}, \"colorscale\": [[0.0, \"#0d0887\"], [0.1111111111111111, \"#46039f\"], [0.2222222222222222, \"#7201a8\"], [0.3333333333333333, \"#9c179e\"], [0.4444444444444444, \"#bd3786\"], [0.5555555555555556, \"#d8576b\"], [0.6666666666666666, \"#ed7953\"], [0.7777777777777778, \"#fb9f3a\"], [0.8888888888888888, \"#fdca26\"], [1.0, \"#f0f921\"]], \"type\": \"histogram2dcontour\"}], \"mesh3d\": [{\"colorbar\": {\"outlinewidth\": 0, \"ticks\": \"\"}, \"type\": \"mesh3d\"}], \"parcoords\": [{\"line\": {\"colorbar\": {\"outlinewidth\": 0, \"ticks\": \"\"}}, \"type\": \"parcoords\"}], \"pie\": [{\"automargin\": true, \"type\": \"pie\"}], \"scatter\": [{\"marker\": {\"colorbar\": {\"outlinewidth\": 0, \"ticks\": \"\"}}, \"type\": \"scatter\"}], \"scatter3d\": [{\"line\": {\"colorbar\": {\"outlinewidth\": 0, \"ticks\": \"\"}}, \"marker\": {\"colorbar\": {\"outlinewidth\": 0, \"ticks\": \"\"}}, \"type\": \"scatter3d\"}], \"scattercarpet\": [{\"marker\": {\"colorbar\": {\"outlinewidth\": 0, \"ticks\": \"\"}}, \"type\": \"scattercarpet\"}], \"scattergeo\": [{\"marker\": {\"colorbar\": {\"outlinewidth\": 0, \"ticks\": \"\"}}, \"type\": \"scattergeo\"}], \"scattergl\": [{\"marker\": {\"colorbar\": {\"outlinewidth\": 0, \"ticks\": \"\"}}, \"type\": \"scattergl\"}], \"scattermapbox\": [{\"marker\": {\"colorbar\": {\"outlinewidth\": 0, \"ticks\": \"\"}}, \"type\": \"scattermapbox\"}], \"scatterpolar\": [{\"marker\": {\"colorbar\": {\"outlinewidth\": 0, \"ticks\": \"\"}}, \"type\": \"scatterpolar\"}], \"scatterpolargl\": [{\"marker\": {\"colorbar\": {\"outlinewidth\": 0, \"ticks\": \"\"}}, \"type\": \"scatterpolargl\"}], \"scatterternary\": [{\"marker\": {\"colorbar\": {\"outlinewidth\": 0, \"ticks\": \"\"}}, \"type\": \"scatterternary\"}], \"surface\": [{\"colorbar\": {\"outlinewidth\": 0, \"ticks\": \"\"}, \"colorscale\": [[0.0, \"#0d0887\"], [0.1111111111111111, \"#46039f\"], [0.2222222222222222, \"#7201a8\"], [0.3333333333333333, \"#9c179e\"], [0.4444444444444444, \"#bd3786\"], [0.5555555555555556, \"#d8576b\"], [0.6666666666666666, \"#ed7953\"], [0.7777777777777778, \"#fb9f3a\"], [0.8888888888888888, \"#fdca26\"], [1.0, \"#f0f921\"]], \"type\": \"surface\"}], \"table\": [{\"cells\": {\"fill\": {\"color\": \"#EBF0F8\"}, \"line\": {\"color\": \"white\"}}, \"header\": {\"fill\": {\"color\": \"#C8D4E3\"}, \"line\": {\"color\": \"white\"}}, \"type\": \"table\"}]}, \"layout\": {\"annotationdefaults\": {\"arrowcolor\": \"#2a3f5f\", \"arrowhead\": 0, \"arrowwidth\": 1}, \"autotypenumbers\": \"strict\", \"coloraxis\": {\"colorbar\": {\"outlinewidth\": 0, \"ticks\": \"\"}}, \"colorscale\": {\"diverging\": [[0, \"#8e0152\"], [0.1, \"#c51b7d\"], [0.2, \"#de77ae\"], [0.3, \"#f1b6da\"], [0.4, \"#fde0ef\"], [0.5, \"#f7f7f7\"], [0.6, \"#e6f5d0\"], [0.7, \"#b8e186\"], [0.8, \"#7fbc41\"], [0.9, \"#4d9221\"], [1, \"#276419\"]], \"sequential\": [[0.0, \"#0d0887\"], [0.1111111111111111, \"#46039f\"], [0.2222222222222222, \"#7201a8\"], [0.3333333333333333, \"#9c179e\"], [0.4444444444444444, \"#bd3786\"], [0.5555555555555556, \"#d8576b\"], [0.6666666666666666, \"#ed7953\"], [0.7777777777777778, \"#fb9f3a\"], [0.8888888888888888, \"#fdca26\"], [1.0, \"#f0f921\"]], \"sequentialminus\": [[0.0, \"#0d0887\"], [0.1111111111111111, \"#46039f\"], [0.2222222222222222, \"#7201a8\"], [0.3333333333333333, \"#9c179e\"], [0.4444444444444444, \"#bd3786\"], [0.5555555555555556, \"#d8576b\"], [0.6666666666666666, \"#ed7953\"], [0.7777777777777778, \"#fb9f3a\"], [0.8888888888888888, \"#fdca26\"], [1.0, \"#f0f921\"]]}, \"colorway\": [\"#636efa\", \"#EF553B\", \"#00cc96\", \"#ab63fa\", \"#FFA15A\", \"#19d3f3\", \"#FF6692\", \"#B6E880\", \"#FF97FF\", \"#FECB52\"], \"font\": {\"color\": \"#2a3f5f\"}, \"geo\": {\"bgcolor\": \"white\", \"lakecolor\": \"white\", \"landcolor\": \"#E5ECF6\", \"showlakes\": true, \"showland\": true, \"subunitcolor\": \"white\"}, \"hoverlabel\": {\"align\": \"left\"}, \"hovermode\": \"closest\", \"mapbox\": {\"style\": \"light\"}, \"paper_bgcolor\": \"white\", \"plot_bgcolor\": \"#E5ECF6\", \"polar\": {\"angularaxis\": {\"gridcolor\": \"white\", \"linecolor\": \"white\", \"ticks\": \"\"}, \"bgcolor\": \"#E5ECF6\", \"radialaxis\": {\"gridcolor\": \"white\", \"linecolor\": \"white\", \"ticks\": \"\"}}, \"scene\": {\"xaxis\": {\"backgroundcolor\": \"#E5ECF6\", \"gridcolor\": \"white\", \"gridwidth\": 2, \"linecolor\": \"white\", \"showbackground\": true, \"ticks\": \"\", \"zerolinecolor\": \"white\"}, \"yaxis\": {\"backgroundcolor\": \"#E5ECF6\", \"gridcolor\": \"white\", \"gridwidth\": 2, \"linecolor\": \"white\", \"showbackground\": true, \"ticks\": \"\", \"zerolinecolor\": \"white\"}, \"zaxis\": {\"backgroundcolor\": \"#E5ECF6\", \"gridcolor\": \"white\", \"gridwidth\": 2, \"linecolor\": \"white\", \"showbackground\": true, \"ticks\": \"\", \"zerolinecolor\": \"white\"}}, \"shapedefaults\": {\"line\": {\"color\": \"#2a3f5f\"}}, \"ternary\": {\"aaxis\": {\"gridcolor\": \"white\", \"linecolor\": \"white\", \"ticks\": \"\"}, \"baxis\": {\"gridcolor\": \"white\", \"linecolor\": \"white\", \"ticks\": \"\"}, \"bgcolor\": \"#E5ECF6\", \"caxis\": {\"gridcolor\": \"white\", \"linecolor\": \"white\", \"ticks\": \"\"}}, \"title\": {\"x\": 0.05}, \"xaxis\": {\"automargin\": true, \"gridcolor\": \"white\", \"linecolor\": \"white\", \"ticks\": \"\", \"title\": {\"standoff\": 15}, \"zerolinecolor\": \"white\", \"zerolinewidth\": 2}, \"yaxis\": {\"automargin\": true, \"gridcolor\": \"white\", \"linecolor\": \"white\", \"ticks\": \"\", \"title\": {\"standoff\": 15}, \"zerolinecolor\": \"white\", \"zerolinewidth\": 2}}}, \"title\": {\"text\": \"Ethnicity\"}},                        {\"responsive\": true}                    ).then(function(){\n",
       "                            \n",
       "var gd = document.getElementById('a9722a57-4ad0-4970-8039-ff2642019e34');\n",
       "var x = new MutationObserver(function (mutations, observer) {{\n",
       "        var display = window.getComputedStyle(gd).display;\n",
       "        if (!display || display === 'none') {{\n",
       "            console.log([gd, 'removed!']);\n",
       "            Plotly.purge(gd);\n",
       "            observer.disconnect();\n",
       "        }}\n",
       "}});\n",
       "\n",
       "// Listen for the removal of the full notebook cells\n",
       "var notebookContainer = gd.closest('#notebook-container');\n",
       "if (notebookContainer) {{\n",
       "    x.observe(notebookContainer, {childList: true});\n",
       "}}\n",
       "\n",
       "// Listen for the clearing of the current output cell\n",
       "var outputEl = gd.closest('.output');\n",
       "if (outputEl) {{\n",
       "    x.observe(outputEl, {childList: true});\n",
       "}}\n",
       "\n",
       "                        })                };                });            </script>        </div>"
      ]
     },
     "metadata": {},
     "output_type": "display_data"
    }
   ],
   "source": [
    "#test plotly bar plot\n",
    "data_test = [go.Histogram(\n",
    "    x=region_mirco_census['ethnicityew_names'], histnorm='percent' \n",
    ")]\n",
    "layout_test = go.Layout(\n",
    "    title='Ethnicity'\n",
    ")\n",
    "test_fig = go.Figure(data=data_test, layout=layout_test)\n",
    "#pyo.plot(fig, filename='bar1.html')\n",
    "test_fig.show()"
   ]
  },
  {
   "cell_type": "code",
   "execution_count": 58,
   "id": "dying-rachel",
   "metadata": {},
   "outputs": [
    {
     "data": {
      "application/vnd.plotly.v1+json": {
       "config": {
        "plotlyServerURL": "https://plot.ly"
       },
       "data": [
        {
         "histnorm": "percent",
         "name": "Region",
         "opacity": 0.4,
         "type": "histogram",
         "x": [
          "White: Other White",
          "White: English/Welsh/Scottish/Northern Irish/British",
          "White: English/Welsh/Scottish/Northern Irish/British",
          "White: English/Welsh/Scottish/Northern Irish/British",
          "White: English/Welsh/Scottish/Northern Irish/British",
          "Student/schoolchild living away during term-time",
          "White: English/Welsh/Scottish/Northern Irish/British",
          "White: English/Welsh/Scottish/Northern Irish/British",
          "Asian/Asian British: Chinese",
          "White: English/Welsh/Scottish/Northern Irish/British",
          "White: English/Welsh/Scottish/Northern Irish/British",
          "White: English/Welsh/Scottish/Northern Irish/British",
          "White: English/Welsh/Scottish/Northern Irish/British",
          "White: English/Welsh/Scottish/Northern Irish/British",
          "White: English/Welsh/Scottish/Northern Irish/British",
          "White: English/Welsh/Scottish/Northern Irish/British",
          "White: English/Welsh/Scottish/Northern Irish/British",
          "White: English/Welsh/Scottish/Northern Irish/British",
          "White: English/Welsh/Scottish/Northern Irish/British",
          "White: English/Welsh/Scottish/Northern Irish/British",
          "White: English/Welsh/Scottish/Northern Irish/British",
          "White: Other White",
          "White: English/Welsh/Scottish/Northern Irish/British",
          "Asian/Asian British: Bangladeshi",
          "White: English/Welsh/Scottish/Northern Irish/British",
          "White: English/Welsh/Scottish/Northern Irish/British"
         ]
        },
        {
         "histnorm": "percent",
         "name": "UK average",
         "opacity": 0.4,
         "type": "histogram",
         "x": [
          "White: English/Welsh/Scottish/Northern Irish/British",
          "White: English/Welsh/Scottish/Northern Irish/British",
          "White: English/Welsh/Scottish/Northern Irish/British",
          "Student/schoolchild living away during term-time",
          "White: English/Welsh/Scottish/Northern Irish/British",
          "White: English/Welsh/Scottish/Northern Irish/British",
          "White: English/Welsh/Scottish/Northern Irish/British",
          "White: English/Welsh/Scottish/Northern Irish/British",
          "White: Other White",
          "White: English/Welsh/Scottish/Northern Irish/British",
          "White: English/Welsh/Scottish/Northern Irish/British",
          "Asian/Asian British: Bangladeshi",
          "White: English/Welsh/Scottish/Northern Irish/British",
          "White: English/Welsh/Scottish/Northern Irish/British",
          "Mixed/multiple ethnic group: White and Asian",
          "White: English/Welsh/Scottish/Northern Irish/British",
          "White: English/Welsh/Scottish/Northern Irish/British",
          "White: English/Welsh/Scottish/Northern Irish/British",
          "White: English/Welsh/Scottish/Northern Irish/British",
          "White: English/Welsh/Scottish/Northern Irish/British",
          "White: English/Welsh/Scottish/Northern Irish/British",
          "White: English/Welsh/Scottish/Northern Irish/British",
          "White: English/Welsh/Scottish/Northern Irish/British",
          "White: English/Welsh/Scottish/Northern Irish/British",
          "White: English/Welsh/Scottish/Northern Irish/British",
          "White: English/Welsh/Scottish/Northern Irish/British",
          "White: English/Welsh/Scottish/Northern Irish/British",
          "Black/African/Caribbean/Black British: African",
          "White: English/Welsh/Scottish/Northern Irish/British",
          "White: English/Welsh/Scottish/Northern Irish/British",
          "White: English/Welsh/Scottish/Northern Irish/British",
          "White: English/Welsh/Scottish/Northern Irish/British",
          "White: English/Welsh/Scottish/Northern Irish/British",
          "White: English/Welsh/Scottish/Northern Irish/British",
          "White: English/Welsh/Scottish/Northern Irish/British",
          "White: English/Welsh/Scottish/Northern Irish/British",
          "White: English/Welsh/Scottish/Northern Irish/British",
          "White: English/Welsh/Scottish/Northern Irish/British",
          "Student/schoolchild living away during term-time",
          "Other ethnic group: Any other ethnic group",
          "Asian/Asian British: Indian",
          "White: English/Welsh/Scottish/Northern Irish/British",
          "White: English/Welsh/Scottish/Northern Irish/British",
          "White: English/Welsh/Scottish/Northern Irish/British",
          "Asian/Asian British: Indian",
          "White: English/Welsh/Scottish/Northern Irish/British",
          "Mixed/multiple ethnic group: White and Asian",
          "White: English/Welsh/Scottish/Northern Irish/British",
          "Student/schoolchild living away during term-time",
          "White: English/Welsh/Scottish/Northern Irish/British",
          "White: English/Welsh/Scottish/Northern Irish/British",
          "White: English/Welsh/Scottish/Northern Irish/British",
          "White: English/Welsh/Scottish/Northern Irish/British",
          "Asian/Asian British: Chinese",
          "Black/African/Caribbean/Black British: Caribbean",
          "White: English/Welsh/Scottish/Northern Irish/British",
          "White: English/Welsh/Scottish/Northern Irish/British",
          "White: English/Welsh/Scottish/Northern Irish/British",
          "White: English/Welsh/Scottish/Northern Irish/British",
          "White: English/Welsh/Scottish/Northern Irish/British",
          "White: English/Welsh/Scottish/Northern Irish/British",
          "White: Other White",
          "White: English/Welsh/Scottish/Northern Irish/British",
          "White: English/Welsh/Scottish/Northern Irish/British",
          "White: English/Welsh/Scottish/Northern Irish/British",
          "White: English/Welsh/Scottish/Northern Irish/British",
          "Black/African/Caribbean/Black British: African",
          "White: English/Welsh/Scottish/Northern Irish/British",
          "White: English/Welsh/Scottish/Northern Irish/British",
          "White: English/Welsh/Scottish/Northern Irish/British",
          "Student/schoolchild living away during term-time",
          "White: English/Welsh/Scottish/Northern Irish/British",
          "White: English/Welsh/Scottish/Northern Irish/British",
          "White: English/Welsh/Scottish/Northern Irish/British",
          "White: English/Welsh/Scottish/Northern Irish/British",
          "White: English/Welsh/Scottish/Northern Irish/British",
          "Other ethnic group: Arab",
          "White: English/Welsh/Scottish/Northern Irish/British",
          "White: English/Welsh/Scottish/Northern Irish/British",
          "Asian/Asian British: Other Asian",
          "Black/African/Caribbean/Black British: African",
          "White: English/Welsh/Scottish/Northern Irish/British",
          "White: English/Welsh/Scottish/Northern Irish/British",
          "White: English/Welsh/Scottish/Northern Irish/British",
          "White: Irish",
          "Black/African/Caribbean/Black British: African",
          "White: English/Welsh/Scottish/Northern Irish/British",
          "White: Other White",
          "White: English/Welsh/Scottish/Northern Irish/British",
          "White: English/Welsh/Scottish/Northern Irish/British",
          "Asian/Asian British: Indian",
          "White: English/Welsh/Scottish/Northern Irish/British",
          "White: English/Welsh/Scottish/Northern Irish/British",
          "White: English/Welsh/Scottish/Northern Irish/British",
          "White: English/Welsh/Scottish/Northern Irish/British",
          "White: English/Welsh/Scottish/Northern Irish/British",
          "White: English/Welsh/Scottish/Northern Irish/British",
          "White: English/Welsh/Scottish/Northern Irish/British",
          "White: Other White",
          "White: English/Welsh/Scottish/Northern Irish/British",
          "White: Other White",
          "White: English/Welsh/Scottish/Northern Irish/British",
          "White: English/Welsh/Scottish/Northern Irish/British",
          "White: English/Welsh/Scottish/Northern Irish/British",
          "White: Other White",
          "White: English/Welsh/Scottish/Northern Irish/British",
          "White: English/Welsh/Scottish/Northern Irish/British",
          "White: English/Welsh/Scottish/Northern Irish/British",
          "White: English/Welsh/Scottish/Northern Irish/British",
          "Black/African/Caribbean/Black British: Caribbean",
          "White: English/Welsh/Scottish/Northern Irish/British",
          "White: English/Welsh/Scottish/Northern Irish/British",
          "White: English/Welsh/Scottish/Northern Irish/British",
          "White: English/Welsh/Scottish/Northern Irish/British",
          "White: English/Welsh/Scottish/Northern Irish/British",
          "Mixed/multiple ethnic group: White and Black Caribbean",
          "White: English/Welsh/Scottish/Northern Irish/British",
          "White: English/Welsh/Scottish/Northern Irish/British",
          "White: Other White",
          "White: English/Welsh/Scottish/Northern Irish/British",
          "White: English/Welsh/Scottish/Northern Irish/British",
          "White: English/Welsh/Scottish/Northern Irish/British",
          "Black/African/Caribbean/Black British: Caribbean",
          "White: English/Welsh/Scottish/Northern Irish/British",
          "Mixed/multiple ethnic group: White and Black Caribbean",
          "Black/African/Caribbean/Black British: Other Black",
          "White: English/Welsh/Scottish/Northern Irish/British",
          "White: English/Welsh/Scottish/Northern Irish/British",
          "White: English/Welsh/Scottish/Northern Irish/British",
          "White: English/Welsh/Scottish/Northern Irish/British",
          "White: English/Welsh/Scottish/Northern Irish/British",
          "White: English/Welsh/Scottish/Northern Irish/British",
          "White: English/Welsh/Scottish/Northern Irish/British",
          "White: English/Welsh/Scottish/Northern Irish/British",
          "White: English/Welsh/Scottish/Northern Irish/British",
          "White: English/Welsh/Scottish/Northern Irish/British",
          "White: English/Welsh/Scottish/Northern Irish/British",
          "White: Other White",
          "Asian/Asian British: Bangladeshi",
          "White: English/Welsh/Scottish/Northern Irish/British",
          "White: English/Welsh/Scottish/Northern Irish/British",
          "Mixed/multiple ethnic group: White and Asian",
          "White: English/Welsh/Scottish/Northern Irish/British",
          "White: English/Welsh/Scottish/Northern Irish/British",
          "White: English/Welsh/Scottish/Northern Irish/British",
          "White: English/Welsh/Scottish/Northern Irish/British",
          "White: English/Welsh/Scottish/Northern Irish/British",
          "White: English/Welsh/Scottish/Northern Irish/British",
          "White: English/Welsh/Scottish/Northern Irish/British",
          "White: English/Welsh/Scottish/Northern Irish/British"
         ]
        }
       ],
       "layout": {
        "barmode": "overlay",
        "template": {
         "data": {
          "bar": [
           {
            "error_x": {
             "color": "#2a3f5f"
            },
            "error_y": {
             "color": "#2a3f5f"
            },
            "marker": {
             "line": {
              "color": "#E5ECF6",
              "width": 0.5
             }
            },
            "type": "bar"
           }
          ],
          "barpolar": [
           {
            "marker": {
             "line": {
              "color": "#E5ECF6",
              "width": 0.5
             }
            },
            "type": "barpolar"
           }
          ],
          "carpet": [
           {
            "aaxis": {
             "endlinecolor": "#2a3f5f",
             "gridcolor": "white",
             "linecolor": "white",
             "minorgridcolor": "white",
             "startlinecolor": "#2a3f5f"
            },
            "baxis": {
             "endlinecolor": "#2a3f5f",
             "gridcolor": "white",
             "linecolor": "white",
             "minorgridcolor": "white",
             "startlinecolor": "#2a3f5f"
            },
            "type": "carpet"
           }
          ],
          "choropleth": [
           {
            "colorbar": {
             "outlinewidth": 0,
             "ticks": ""
            },
            "type": "choropleth"
           }
          ],
          "contour": [
           {
            "colorbar": {
             "outlinewidth": 0,
             "ticks": ""
            },
            "colorscale": [
             [
              0,
              "#0d0887"
             ],
             [
              0.1111111111111111,
              "#46039f"
             ],
             [
              0.2222222222222222,
              "#7201a8"
             ],
             [
              0.3333333333333333,
              "#9c179e"
             ],
             [
              0.4444444444444444,
              "#bd3786"
             ],
             [
              0.5555555555555556,
              "#d8576b"
             ],
             [
              0.6666666666666666,
              "#ed7953"
             ],
             [
              0.7777777777777778,
              "#fb9f3a"
             ],
             [
              0.8888888888888888,
              "#fdca26"
             ],
             [
              1,
              "#f0f921"
             ]
            ],
            "type": "contour"
           }
          ],
          "contourcarpet": [
           {
            "colorbar": {
             "outlinewidth": 0,
             "ticks": ""
            },
            "type": "contourcarpet"
           }
          ],
          "heatmap": [
           {
            "colorbar": {
             "outlinewidth": 0,
             "ticks": ""
            },
            "colorscale": [
             [
              0,
              "#0d0887"
             ],
             [
              0.1111111111111111,
              "#46039f"
             ],
             [
              0.2222222222222222,
              "#7201a8"
             ],
             [
              0.3333333333333333,
              "#9c179e"
             ],
             [
              0.4444444444444444,
              "#bd3786"
             ],
             [
              0.5555555555555556,
              "#d8576b"
             ],
             [
              0.6666666666666666,
              "#ed7953"
             ],
             [
              0.7777777777777778,
              "#fb9f3a"
             ],
             [
              0.8888888888888888,
              "#fdca26"
             ],
             [
              1,
              "#f0f921"
             ]
            ],
            "type": "heatmap"
           }
          ],
          "heatmapgl": [
           {
            "colorbar": {
             "outlinewidth": 0,
             "ticks": ""
            },
            "colorscale": [
             [
              0,
              "#0d0887"
             ],
             [
              0.1111111111111111,
              "#46039f"
             ],
             [
              0.2222222222222222,
              "#7201a8"
             ],
             [
              0.3333333333333333,
              "#9c179e"
             ],
             [
              0.4444444444444444,
              "#bd3786"
             ],
             [
              0.5555555555555556,
              "#d8576b"
             ],
             [
              0.6666666666666666,
              "#ed7953"
             ],
             [
              0.7777777777777778,
              "#fb9f3a"
             ],
             [
              0.8888888888888888,
              "#fdca26"
             ],
             [
              1,
              "#f0f921"
             ]
            ],
            "type": "heatmapgl"
           }
          ],
          "histogram": [
           {
            "marker": {
             "colorbar": {
              "outlinewidth": 0,
              "ticks": ""
             }
            },
            "type": "histogram"
           }
          ],
          "histogram2d": [
           {
            "colorbar": {
             "outlinewidth": 0,
             "ticks": ""
            },
            "colorscale": [
             [
              0,
              "#0d0887"
             ],
             [
              0.1111111111111111,
              "#46039f"
             ],
             [
              0.2222222222222222,
              "#7201a8"
             ],
             [
              0.3333333333333333,
              "#9c179e"
             ],
             [
              0.4444444444444444,
              "#bd3786"
             ],
             [
              0.5555555555555556,
              "#d8576b"
             ],
             [
              0.6666666666666666,
              "#ed7953"
             ],
             [
              0.7777777777777778,
              "#fb9f3a"
             ],
             [
              0.8888888888888888,
              "#fdca26"
             ],
             [
              1,
              "#f0f921"
             ]
            ],
            "type": "histogram2d"
           }
          ],
          "histogram2dcontour": [
           {
            "colorbar": {
             "outlinewidth": 0,
             "ticks": ""
            },
            "colorscale": [
             [
              0,
              "#0d0887"
             ],
             [
              0.1111111111111111,
              "#46039f"
             ],
             [
              0.2222222222222222,
              "#7201a8"
             ],
             [
              0.3333333333333333,
              "#9c179e"
             ],
             [
              0.4444444444444444,
              "#bd3786"
             ],
             [
              0.5555555555555556,
              "#d8576b"
             ],
             [
              0.6666666666666666,
              "#ed7953"
             ],
             [
              0.7777777777777778,
              "#fb9f3a"
             ],
             [
              0.8888888888888888,
              "#fdca26"
             ],
             [
              1,
              "#f0f921"
             ]
            ],
            "type": "histogram2dcontour"
           }
          ],
          "mesh3d": [
           {
            "colorbar": {
             "outlinewidth": 0,
             "ticks": ""
            },
            "type": "mesh3d"
           }
          ],
          "parcoords": [
           {
            "line": {
             "colorbar": {
              "outlinewidth": 0,
              "ticks": ""
             }
            },
            "type": "parcoords"
           }
          ],
          "pie": [
           {
            "automargin": true,
            "type": "pie"
           }
          ],
          "scatter": [
           {
            "marker": {
             "colorbar": {
              "outlinewidth": 0,
              "ticks": ""
             }
            },
            "type": "scatter"
           }
          ],
          "scatter3d": [
           {
            "line": {
             "colorbar": {
              "outlinewidth": 0,
              "ticks": ""
             }
            },
            "marker": {
             "colorbar": {
              "outlinewidth": 0,
              "ticks": ""
             }
            },
            "type": "scatter3d"
           }
          ],
          "scattercarpet": [
           {
            "marker": {
             "colorbar": {
              "outlinewidth": 0,
              "ticks": ""
             }
            },
            "type": "scattercarpet"
           }
          ],
          "scattergeo": [
           {
            "marker": {
             "colorbar": {
              "outlinewidth": 0,
              "ticks": ""
             }
            },
            "type": "scattergeo"
           }
          ],
          "scattergl": [
           {
            "marker": {
             "colorbar": {
              "outlinewidth": 0,
              "ticks": ""
             }
            },
            "type": "scattergl"
           }
          ],
          "scattermapbox": [
           {
            "marker": {
             "colorbar": {
              "outlinewidth": 0,
              "ticks": ""
             }
            },
            "type": "scattermapbox"
           }
          ],
          "scatterpolar": [
           {
            "marker": {
             "colorbar": {
              "outlinewidth": 0,
              "ticks": ""
             }
            },
            "type": "scatterpolar"
           }
          ],
          "scatterpolargl": [
           {
            "marker": {
             "colorbar": {
              "outlinewidth": 0,
              "ticks": ""
             }
            },
            "type": "scatterpolargl"
           }
          ],
          "scatterternary": [
           {
            "marker": {
             "colorbar": {
              "outlinewidth": 0,
              "ticks": ""
             }
            },
            "type": "scatterternary"
           }
          ],
          "surface": [
           {
            "colorbar": {
             "outlinewidth": 0,
             "ticks": ""
            },
            "colorscale": [
             [
              0,
              "#0d0887"
             ],
             [
              0.1111111111111111,
              "#46039f"
             ],
             [
              0.2222222222222222,
              "#7201a8"
             ],
             [
              0.3333333333333333,
              "#9c179e"
             ],
             [
              0.4444444444444444,
              "#bd3786"
             ],
             [
              0.5555555555555556,
              "#d8576b"
             ],
             [
              0.6666666666666666,
              "#ed7953"
             ],
             [
              0.7777777777777778,
              "#fb9f3a"
             ],
             [
              0.8888888888888888,
              "#fdca26"
             ],
             [
              1,
              "#f0f921"
             ]
            ],
            "type": "surface"
           }
          ],
          "table": [
           {
            "cells": {
             "fill": {
              "color": "#EBF0F8"
             },
             "line": {
              "color": "white"
             }
            },
            "header": {
             "fill": {
              "color": "#C8D4E3"
             },
             "line": {
              "color": "white"
             }
            },
            "type": "table"
           }
          ]
         },
         "layout": {
          "annotationdefaults": {
           "arrowcolor": "#2a3f5f",
           "arrowhead": 0,
           "arrowwidth": 1
          },
          "autotypenumbers": "strict",
          "coloraxis": {
           "colorbar": {
            "outlinewidth": 0,
            "ticks": ""
           }
          },
          "colorscale": {
           "diverging": [
            [
             0,
             "#8e0152"
            ],
            [
             0.1,
             "#c51b7d"
            ],
            [
             0.2,
             "#de77ae"
            ],
            [
             0.3,
             "#f1b6da"
            ],
            [
             0.4,
             "#fde0ef"
            ],
            [
             0.5,
             "#f7f7f7"
            ],
            [
             0.6,
             "#e6f5d0"
            ],
            [
             0.7,
             "#b8e186"
            ],
            [
             0.8,
             "#7fbc41"
            ],
            [
             0.9,
             "#4d9221"
            ],
            [
             1,
             "#276419"
            ]
           ],
           "sequential": [
            [
             0,
             "#0d0887"
            ],
            [
             0.1111111111111111,
             "#46039f"
            ],
            [
             0.2222222222222222,
             "#7201a8"
            ],
            [
             0.3333333333333333,
             "#9c179e"
            ],
            [
             0.4444444444444444,
             "#bd3786"
            ],
            [
             0.5555555555555556,
             "#d8576b"
            ],
            [
             0.6666666666666666,
             "#ed7953"
            ],
            [
             0.7777777777777778,
             "#fb9f3a"
            ],
            [
             0.8888888888888888,
             "#fdca26"
            ],
            [
             1,
             "#f0f921"
            ]
           ],
           "sequentialminus": [
            [
             0,
             "#0d0887"
            ],
            [
             0.1111111111111111,
             "#46039f"
            ],
            [
             0.2222222222222222,
             "#7201a8"
            ],
            [
             0.3333333333333333,
             "#9c179e"
            ],
            [
             0.4444444444444444,
             "#bd3786"
            ],
            [
             0.5555555555555556,
             "#d8576b"
            ],
            [
             0.6666666666666666,
             "#ed7953"
            ],
            [
             0.7777777777777778,
             "#fb9f3a"
            ],
            [
             0.8888888888888888,
             "#fdca26"
            ],
            [
             1,
             "#f0f921"
            ]
           ]
          },
          "colorway": [
           "#636efa",
           "#EF553B",
           "#00cc96",
           "#ab63fa",
           "#FFA15A",
           "#19d3f3",
           "#FF6692",
           "#B6E880",
           "#FF97FF",
           "#FECB52"
          ],
          "font": {
           "color": "#2a3f5f"
          },
          "geo": {
           "bgcolor": "white",
           "lakecolor": "white",
           "landcolor": "#E5ECF6",
           "showlakes": true,
           "showland": true,
           "subunitcolor": "white"
          },
          "hoverlabel": {
           "align": "left"
          },
          "hovermode": "closest",
          "mapbox": {
           "style": "light"
          },
          "paper_bgcolor": "white",
          "plot_bgcolor": "#E5ECF6",
          "polar": {
           "angularaxis": {
            "gridcolor": "white",
            "linecolor": "white",
            "ticks": ""
           },
           "bgcolor": "#E5ECF6",
           "radialaxis": {
            "gridcolor": "white",
            "linecolor": "white",
            "ticks": ""
           }
          },
          "scene": {
           "xaxis": {
            "backgroundcolor": "#E5ECF6",
            "gridcolor": "white",
            "gridwidth": 2,
            "linecolor": "white",
            "showbackground": true,
            "ticks": "",
            "zerolinecolor": "white"
           },
           "yaxis": {
            "backgroundcolor": "#E5ECF6",
            "gridcolor": "white",
            "gridwidth": 2,
            "linecolor": "white",
            "showbackground": true,
            "ticks": "",
            "zerolinecolor": "white"
           },
           "zaxis": {
            "backgroundcolor": "#E5ECF6",
            "gridcolor": "white",
            "gridwidth": 2,
            "linecolor": "white",
            "showbackground": true,
            "ticks": "",
            "zerolinecolor": "white"
           }
          },
          "shapedefaults": {
           "line": {
            "color": "#2a3f5f"
           }
          },
          "ternary": {
           "aaxis": {
            "gridcolor": "white",
            "linecolor": "white",
            "ticks": ""
           },
           "baxis": {
            "gridcolor": "white",
            "linecolor": "white",
            "ticks": ""
           },
           "bgcolor": "#E5ECF6",
           "caxis": {
            "gridcolor": "white",
            "linecolor": "white",
            "ticks": ""
           }
          },
          "title": {
           "x": 0.05
          },
          "xaxis": {
           "automargin": true,
           "gridcolor": "white",
           "linecolor": "white",
           "ticks": "",
           "title": {
            "standoff": 15
           },
           "zerolinecolor": "white",
           "zerolinewidth": 2
          },
          "yaxis": {
           "automargin": true,
           "gridcolor": "white",
           "linecolor": "white",
           "ticks": "",
           "title": {
            "standoff": 15
           },
           "zerolinecolor": "white",
           "zerolinewidth": 2
          }
         }
        }
       }
      },
      "text/html": [
       "<div>                            <div id=\"4b67a007-3a15-4ee0-9a7c-144328b115bb\" class=\"plotly-graph-div\" style=\"height:525px; width:100%;\"></div>            <script type=\"text/javascript\">                require([\"plotly\"], function(Plotly) {                    window.PLOTLYENV=window.PLOTLYENV || {};                                    if (document.getElementById(\"4b67a007-3a15-4ee0-9a7c-144328b115bb\")) {                    Plotly.newPlot(                        \"4b67a007-3a15-4ee0-9a7c-144328b115bb\",                        [{\"histnorm\": \"percent\", \"name\": \"Region\", \"opacity\": 0.4, \"type\": \"histogram\", \"x\": [\"White: Other White\", \"White: English/Welsh/Scottish/Northern Irish/British\", \"White: English/Welsh/Scottish/Northern Irish/British\", \"White: English/Welsh/Scottish/Northern Irish/British\", \"White: English/Welsh/Scottish/Northern Irish/British\", \"Student/schoolchild living away during term-time\", \"White: English/Welsh/Scottish/Northern Irish/British\", \"White: English/Welsh/Scottish/Northern Irish/British\", \"Asian/Asian British: Chinese\", \"White: English/Welsh/Scottish/Northern Irish/British\", \"White: English/Welsh/Scottish/Northern Irish/British\", \"White: English/Welsh/Scottish/Northern Irish/British\", \"White: English/Welsh/Scottish/Northern Irish/British\", \"White: English/Welsh/Scottish/Northern Irish/British\", \"White: English/Welsh/Scottish/Northern Irish/British\", \"White: English/Welsh/Scottish/Northern Irish/British\", \"White: English/Welsh/Scottish/Northern Irish/British\", \"White: English/Welsh/Scottish/Northern Irish/British\", \"White: English/Welsh/Scottish/Northern Irish/British\", \"White: English/Welsh/Scottish/Northern Irish/British\", \"White: English/Welsh/Scottish/Northern Irish/British\", \"White: Other White\", \"White: English/Welsh/Scottish/Northern Irish/British\", \"Asian/Asian British: Bangladeshi\", \"White: English/Welsh/Scottish/Northern Irish/British\", \"White: English/Welsh/Scottish/Northern Irish/British\"]}, {\"histnorm\": \"percent\", \"name\": \"UK average\", \"opacity\": 0.4, \"type\": \"histogram\", \"x\": [\"White: English/Welsh/Scottish/Northern Irish/British\", \"White: English/Welsh/Scottish/Northern Irish/British\", \"White: English/Welsh/Scottish/Northern Irish/British\", \"Student/schoolchild living away during term-time\", \"White: English/Welsh/Scottish/Northern Irish/British\", \"White: English/Welsh/Scottish/Northern Irish/British\", \"White: English/Welsh/Scottish/Northern Irish/British\", \"White: English/Welsh/Scottish/Northern Irish/British\", \"White: Other White\", \"White: English/Welsh/Scottish/Northern Irish/British\", \"White: English/Welsh/Scottish/Northern Irish/British\", \"Asian/Asian British: Bangladeshi\", \"White: English/Welsh/Scottish/Northern Irish/British\", \"White: English/Welsh/Scottish/Northern Irish/British\", \"Mixed/multiple ethnic group: White and Asian\", \"White: English/Welsh/Scottish/Northern Irish/British\", \"White: English/Welsh/Scottish/Northern Irish/British\", \"White: English/Welsh/Scottish/Northern Irish/British\", \"White: English/Welsh/Scottish/Northern Irish/British\", \"White: English/Welsh/Scottish/Northern Irish/British\", \"White: English/Welsh/Scottish/Northern Irish/British\", \"White: English/Welsh/Scottish/Northern Irish/British\", \"White: English/Welsh/Scottish/Northern Irish/British\", \"White: English/Welsh/Scottish/Northern Irish/British\", \"White: English/Welsh/Scottish/Northern Irish/British\", \"White: English/Welsh/Scottish/Northern Irish/British\", \"White: English/Welsh/Scottish/Northern Irish/British\", \"Black/African/Caribbean/Black British: African\", \"White: English/Welsh/Scottish/Northern Irish/British\", \"White: English/Welsh/Scottish/Northern Irish/British\", \"White: English/Welsh/Scottish/Northern Irish/British\", \"White: English/Welsh/Scottish/Northern Irish/British\", \"White: English/Welsh/Scottish/Northern Irish/British\", \"White: English/Welsh/Scottish/Northern Irish/British\", \"White: English/Welsh/Scottish/Northern Irish/British\", \"White: English/Welsh/Scottish/Northern Irish/British\", \"White: English/Welsh/Scottish/Northern Irish/British\", \"White: English/Welsh/Scottish/Northern Irish/British\", \"Student/schoolchild living away during term-time\", \"Other ethnic group: Any other ethnic group\", \"Asian/Asian British: Indian\", \"White: English/Welsh/Scottish/Northern Irish/British\", \"White: English/Welsh/Scottish/Northern Irish/British\", \"White: English/Welsh/Scottish/Northern Irish/British\", \"Asian/Asian British: Indian\", \"White: English/Welsh/Scottish/Northern Irish/British\", \"Mixed/multiple ethnic group: White and Asian\", \"White: English/Welsh/Scottish/Northern Irish/British\", \"Student/schoolchild living away during term-time\", \"White: English/Welsh/Scottish/Northern Irish/British\", \"White: English/Welsh/Scottish/Northern Irish/British\", \"White: English/Welsh/Scottish/Northern Irish/British\", \"White: English/Welsh/Scottish/Northern Irish/British\", \"Asian/Asian British: Chinese\", \"Black/African/Caribbean/Black British: Caribbean\", \"White: English/Welsh/Scottish/Northern Irish/British\", \"White: English/Welsh/Scottish/Northern Irish/British\", \"White: English/Welsh/Scottish/Northern Irish/British\", \"White: English/Welsh/Scottish/Northern Irish/British\", \"White: English/Welsh/Scottish/Northern Irish/British\", \"White: English/Welsh/Scottish/Northern Irish/British\", \"White: Other White\", \"White: English/Welsh/Scottish/Northern Irish/British\", \"White: English/Welsh/Scottish/Northern Irish/British\", \"White: English/Welsh/Scottish/Northern Irish/British\", \"White: English/Welsh/Scottish/Northern Irish/British\", \"Black/African/Caribbean/Black British: African\", \"White: English/Welsh/Scottish/Northern Irish/British\", \"White: English/Welsh/Scottish/Northern Irish/British\", \"White: English/Welsh/Scottish/Northern Irish/British\", \"Student/schoolchild living away during term-time\", \"White: English/Welsh/Scottish/Northern Irish/British\", \"White: English/Welsh/Scottish/Northern Irish/British\", \"White: English/Welsh/Scottish/Northern Irish/British\", \"White: English/Welsh/Scottish/Northern Irish/British\", \"White: English/Welsh/Scottish/Northern Irish/British\", \"Other ethnic group: Arab\", \"White: English/Welsh/Scottish/Northern Irish/British\", \"White: English/Welsh/Scottish/Northern Irish/British\", \"Asian/Asian British: Other Asian\", \"Black/African/Caribbean/Black British: African\", \"White: English/Welsh/Scottish/Northern Irish/British\", \"White: English/Welsh/Scottish/Northern Irish/British\", \"White: English/Welsh/Scottish/Northern Irish/British\", \"White: Irish\", \"Black/African/Caribbean/Black British: African\", \"White: English/Welsh/Scottish/Northern Irish/British\", \"White: Other White\", \"White: English/Welsh/Scottish/Northern Irish/British\", \"White: English/Welsh/Scottish/Northern Irish/British\", \"Asian/Asian British: Indian\", \"White: English/Welsh/Scottish/Northern Irish/British\", \"White: English/Welsh/Scottish/Northern Irish/British\", \"White: English/Welsh/Scottish/Northern Irish/British\", \"White: English/Welsh/Scottish/Northern Irish/British\", \"White: English/Welsh/Scottish/Northern Irish/British\", \"White: English/Welsh/Scottish/Northern Irish/British\", \"White: English/Welsh/Scottish/Northern Irish/British\", \"White: Other White\", \"White: English/Welsh/Scottish/Northern Irish/British\", \"White: Other White\", \"White: English/Welsh/Scottish/Northern Irish/British\", \"White: English/Welsh/Scottish/Northern Irish/British\", \"White: English/Welsh/Scottish/Northern Irish/British\", \"White: Other White\", \"White: English/Welsh/Scottish/Northern Irish/British\", \"White: English/Welsh/Scottish/Northern Irish/British\", \"White: English/Welsh/Scottish/Northern Irish/British\", \"White: English/Welsh/Scottish/Northern Irish/British\", \"Black/African/Caribbean/Black British: Caribbean\", \"White: English/Welsh/Scottish/Northern Irish/British\", \"White: English/Welsh/Scottish/Northern Irish/British\", \"White: English/Welsh/Scottish/Northern Irish/British\", \"White: English/Welsh/Scottish/Northern Irish/British\", \"White: English/Welsh/Scottish/Northern Irish/British\", \"Mixed/multiple ethnic group: White and Black Caribbean\", \"White: English/Welsh/Scottish/Northern Irish/British\", \"White: English/Welsh/Scottish/Northern Irish/British\", \"White: Other White\", \"White: English/Welsh/Scottish/Northern Irish/British\", \"White: English/Welsh/Scottish/Northern Irish/British\", \"White: English/Welsh/Scottish/Northern Irish/British\", \"Black/African/Caribbean/Black British: Caribbean\", \"White: English/Welsh/Scottish/Northern Irish/British\", \"Mixed/multiple ethnic group: White and Black Caribbean\", \"Black/African/Caribbean/Black British: Other Black\", \"White: English/Welsh/Scottish/Northern Irish/British\", \"White: English/Welsh/Scottish/Northern Irish/British\", \"White: English/Welsh/Scottish/Northern Irish/British\", \"White: English/Welsh/Scottish/Northern Irish/British\", \"White: English/Welsh/Scottish/Northern Irish/British\", \"White: English/Welsh/Scottish/Northern Irish/British\", \"White: English/Welsh/Scottish/Northern Irish/British\", \"White: English/Welsh/Scottish/Northern Irish/British\", \"White: English/Welsh/Scottish/Northern Irish/British\", \"White: English/Welsh/Scottish/Northern Irish/British\", \"White: English/Welsh/Scottish/Northern Irish/British\", \"White: Other White\", \"Asian/Asian British: Bangladeshi\", \"White: English/Welsh/Scottish/Northern Irish/British\", \"White: English/Welsh/Scottish/Northern Irish/British\", \"Mixed/multiple ethnic group: White and Asian\", \"White: English/Welsh/Scottish/Northern Irish/British\", \"White: English/Welsh/Scottish/Northern Irish/British\", \"White: English/Welsh/Scottish/Northern Irish/British\", \"White: English/Welsh/Scottish/Northern Irish/British\", \"White: English/Welsh/Scottish/Northern Irish/British\", \"White: English/Welsh/Scottish/Northern Irish/British\", \"White: English/Welsh/Scottish/Northern Irish/British\", \"White: English/Welsh/Scottish/Northern Irish/British\"]}],                        {\"barmode\": \"overlay\", \"template\": {\"data\": {\"bar\": [{\"error_x\": {\"color\": \"#2a3f5f\"}, \"error_y\": {\"color\": \"#2a3f5f\"}, \"marker\": {\"line\": {\"color\": \"#E5ECF6\", \"width\": 0.5}}, \"type\": \"bar\"}], \"barpolar\": [{\"marker\": {\"line\": {\"color\": \"#E5ECF6\", \"width\": 0.5}}, \"type\": \"barpolar\"}], \"carpet\": [{\"aaxis\": {\"endlinecolor\": \"#2a3f5f\", \"gridcolor\": \"white\", \"linecolor\": \"white\", \"minorgridcolor\": \"white\", \"startlinecolor\": \"#2a3f5f\"}, \"baxis\": {\"endlinecolor\": \"#2a3f5f\", \"gridcolor\": \"white\", \"linecolor\": \"white\", \"minorgridcolor\": \"white\", \"startlinecolor\": \"#2a3f5f\"}, \"type\": \"carpet\"}], \"choropleth\": [{\"colorbar\": {\"outlinewidth\": 0, \"ticks\": \"\"}, \"type\": \"choropleth\"}], \"contour\": [{\"colorbar\": {\"outlinewidth\": 0, \"ticks\": \"\"}, \"colorscale\": [[0.0, \"#0d0887\"], [0.1111111111111111, \"#46039f\"], [0.2222222222222222, \"#7201a8\"], [0.3333333333333333, \"#9c179e\"], [0.4444444444444444, \"#bd3786\"], [0.5555555555555556, \"#d8576b\"], [0.6666666666666666, \"#ed7953\"], [0.7777777777777778, \"#fb9f3a\"], [0.8888888888888888, \"#fdca26\"], [1.0, \"#f0f921\"]], \"type\": \"contour\"}], \"contourcarpet\": [{\"colorbar\": {\"outlinewidth\": 0, \"ticks\": \"\"}, \"type\": \"contourcarpet\"}], \"heatmap\": [{\"colorbar\": {\"outlinewidth\": 0, \"ticks\": \"\"}, \"colorscale\": [[0.0, \"#0d0887\"], [0.1111111111111111, \"#46039f\"], [0.2222222222222222, \"#7201a8\"], [0.3333333333333333, \"#9c179e\"], [0.4444444444444444, \"#bd3786\"], [0.5555555555555556, \"#d8576b\"], [0.6666666666666666, \"#ed7953\"], [0.7777777777777778, \"#fb9f3a\"], [0.8888888888888888, \"#fdca26\"], [1.0, \"#f0f921\"]], \"type\": \"heatmap\"}], \"heatmapgl\": [{\"colorbar\": {\"outlinewidth\": 0, \"ticks\": \"\"}, \"colorscale\": [[0.0, \"#0d0887\"], [0.1111111111111111, \"#46039f\"], [0.2222222222222222, \"#7201a8\"], [0.3333333333333333, \"#9c179e\"], [0.4444444444444444, \"#bd3786\"], [0.5555555555555556, \"#d8576b\"], [0.6666666666666666, \"#ed7953\"], [0.7777777777777778, \"#fb9f3a\"], [0.8888888888888888, \"#fdca26\"], [1.0, \"#f0f921\"]], \"type\": \"heatmapgl\"}], \"histogram\": [{\"marker\": {\"colorbar\": {\"outlinewidth\": 0, \"ticks\": \"\"}}, \"type\": \"histogram\"}], \"histogram2d\": [{\"colorbar\": {\"outlinewidth\": 0, \"ticks\": \"\"}, \"colorscale\": [[0.0, \"#0d0887\"], [0.1111111111111111, \"#46039f\"], [0.2222222222222222, \"#7201a8\"], [0.3333333333333333, \"#9c179e\"], [0.4444444444444444, \"#bd3786\"], [0.5555555555555556, \"#d8576b\"], [0.6666666666666666, \"#ed7953\"], [0.7777777777777778, \"#fb9f3a\"], [0.8888888888888888, \"#fdca26\"], [1.0, \"#f0f921\"]], \"type\": \"histogram2d\"}], \"histogram2dcontour\": [{\"colorbar\": {\"outlinewidth\": 0, \"ticks\": \"\"}, \"colorscale\": [[0.0, \"#0d0887\"], [0.1111111111111111, \"#46039f\"], [0.2222222222222222, \"#7201a8\"], [0.3333333333333333, \"#9c179e\"], [0.4444444444444444, \"#bd3786\"], [0.5555555555555556, \"#d8576b\"], [0.6666666666666666, \"#ed7953\"], [0.7777777777777778, \"#fb9f3a\"], [0.8888888888888888, \"#fdca26\"], [1.0, \"#f0f921\"]], \"type\": \"histogram2dcontour\"}], \"mesh3d\": [{\"colorbar\": {\"outlinewidth\": 0, \"ticks\": \"\"}, \"type\": \"mesh3d\"}], \"parcoords\": [{\"line\": {\"colorbar\": {\"outlinewidth\": 0, \"ticks\": \"\"}}, \"type\": \"parcoords\"}], \"pie\": [{\"automargin\": true, \"type\": \"pie\"}], \"scatter\": [{\"marker\": {\"colorbar\": {\"outlinewidth\": 0, \"ticks\": \"\"}}, \"type\": \"scatter\"}], \"scatter3d\": [{\"line\": {\"colorbar\": {\"outlinewidth\": 0, \"ticks\": \"\"}}, \"marker\": {\"colorbar\": {\"outlinewidth\": 0, \"ticks\": \"\"}}, \"type\": \"scatter3d\"}], \"scattercarpet\": [{\"marker\": {\"colorbar\": {\"outlinewidth\": 0, \"ticks\": \"\"}}, \"type\": \"scattercarpet\"}], \"scattergeo\": [{\"marker\": {\"colorbar\": {\"outlinewidth\": 0, \"ticks\": \"\"}}, \"type\": \"scattergeo\"}], \"scattergl\": [{\"marker\": {\"colorbar\": {\"outlinewidth\": 0, \"ticks\": \"\"}}, \"type\": \"scattergl\"}], \"scattermapbox\": [{\"marker\": {\"colorbar\": {\"outlinewidth\": 0, \"ticks\": \"\"}}, \"type\": \"scattermapbox\"}], \"scatterpolar\": [{\"marker\": {\"colorbar\": {\"outlinewidth\": 0, \"ticks\": \"\"}}, \"type\": \"scatterpolar\"}], \"scatterpolargl\": [{\"marker\": {\"colorbar\": {\"outlinewidth\": 0, \"ticks\": \"\"}}, \"type\": \"scatterpolargl\"}], \"scatterternary\": [{\"marker\": {\"colorbar\": {\"outlinewidth\": 0, \"ticks\": \"\"}}, \"type\": \"scatterternary\"}], \"surface\": [{\"colorbar\": {\"outlinewidth\": 0, \"ticks\": \"\"}, \"colorscale\": [[0.0, \"#0d0887\"], [0.1111111111111111, \"#46039f\"], [0.2222222222222222, \"#7201a8\"], [0.3333333333333333, \"#9c179e\"], [0.4444444444444444, \"#bd3786\"], [0.5555555555555556, \"#d8576b\"], [0.6666666666666666, \"#ed7953\"], [0.7777777777777778, \"#fb9f3a\"], [0.8888888888888888, \"#fdca26\"], [1.0, \"#f0f921\"]], \"type\": \"surface\"}], \"table\": [{\"cells\": {\"fill\": {\"color\": \"#EBF0F8\"}, \"line\": {\"color\": \"white\"}}, \"header\": {\"fill\": {\"color\": \"#C8D4E3\"}, \"line\": {\"color\": \"white\"}}, \"type\": \"table\"}]}, \"layout\": {\"annotationdefaults\": {\"arrowcolor\": \"#2a3f5f\", \"arrowhead\": 0, \"arrowwidth\": 1}, \"autotypenumbers\": \"strict\", \"coloraxis\": {\"colorbar\": {\"outlinewidth\": 0, \"ticks\": \"\"}}, \"colorscale\": {\"diverging\": [[0, \"#8e0152\"], [0.1, \"#c51b7d\"], [0.2, \"#de77ae\"], [0.3, \"#f1b6da\"], [0.4, \"#fde0ef\"], [0.5, \"#f7f7f7\"], [0.6, \"#e6f5d0\"], [0.7, \"#b8e186\"], [0.8, \"#7fbc41\"], [0.9, \"#4d9221\"], [1, \"#276419\"]], \"sequential\": [[0.0, \"#0d0887\"], [0.1111111111111111, \"#46039f\"], [0.2222222222222222, \"#7201a8\"], [0.3333333333333333, \"#9c179e\"], [0.4444444444444444, \"#bd3786\"], [0.5555555555555556, \"#d8576b\"], [0.6666666666666666, \"#ed7953\"], [0.7777777777777778, \"#fb9f3a\"], [0.8888888888888888, \"#fdca26\"], [1.0, \"#f0f921\"]], \"sequentialminus\": [[0.0, \"#0d0887\"], [0.1111111111111111, \"#46039f\"], [0.2222222222222222, \"#7201a8\"], [0.3333333333333333, \"#9c179e\"], [0.4444444444444444, \"#bd3786\"], [0.5555555555555556, \"#d8576b\"], [0.6666666666666666, \"#ed7953\"], [0.7777777777777778, \"#fb9f3a\"], [0.8888888888888888, \"#fdca26\"], [1.0, \"#f0f921\"]]}, \"colorway\": [\"#636efa\", \"#EF553B\", \"#00cc96\", \"#ab63fa\", \"#FFA15A\", \"#19d3f3\", \"#FF6692\", \"#B6E880\", \"#FF97FF\", \"#FECB52\"], \"font\": {\"color\": \"#2a3f5f\"}, \"geo\": {\"bgcolor\": \"white\", \"lakecolor\": \"white\", \"landcolor\": \"#E5ECF6\", \"showlakes\": true, \"showland\": true, \"subunitcolor\": \"white\"}, \"hoverlabel\": {\"align\": \"left\"}, \"hovermode\": \"closest\", \"mapbox\": {\"style\": \"light\"}, \"paper_bgcolor\": \"white\", \"plot_bgcolor\": \"#E5ECF6\", \"polar\": {\"angularaxis\": {\"gridcolor\": \"white\", \"linecolor\": \"white\", \"ticks\": \"\"}, \"bgcolor\": \"#E5ECF6\", \"radialaxis\": {\"gridcolor\": \"white\", \"linecolor\": \"white\", \"ticks\": \"\"}}, \"scene\": {\"xaxis\": {\"backgroundcolor\": \"#E5ECF6\", \"gridcolor\": \"white\", \"gridwidth\": 2, \"linecolor\": \"white\", \"showbackground\": true, \"ticks\": \"\", \"zerolinecolor\": \"white\"}, \"yaxis\": {\"backgroundcolor\": \"#E5ECF6\", \"gridcolor\": \"white\", \"gridwidth\": 2, \"linecolor\": \"white\", \"showbackground\": true, \"ticks\": \"\", \"zerolinecolor\": \"white\"}, \"zaxis\": {\"backgroundcolor\": \"#E5ECF6\", \"gridcolor\": \"white\", \"gridwidth\": 2, \"linecolor\": \"white\", \"showbackground\": true, \"ticks\": \"\", \"zerolinecolor\": \"white\"}}, \"shapedefaults\": {\"line\": {\"color\": \"#2a3f5f\"}}, \"ternary\": {\"aaxis\": {\"gridcolor\": \"white\", \"linecolor\": \"white\", \"ticks\": \"\"}, \"baxis\": {\"gridcolor\": \"white\", \"linecolor\": \"white\", \"ticks\": \"\"}, \"bgcolor\": \"#E5ECF6\", \"caxis\": {\"gridcolor\": \"white\", \"linecolor\": \"white\", \"ticks\": \"\"}}, \"title\": {\"x\": 0.05}, \"xaxis\": {\"automargin\": true, \"gridcolor\": \"white\", \"linecolor\": \"white\", \"ticks\": \"\", \"title\": {\"standoff\": 15}, \"zerolinecolor\": \"white\", \"zerolinewidth\": 2}, \"yaxis\": {\"automargin\": true, \"gridcolor\": \"white\", \"linecolor\": \"white\", \"ticks\": \"\", \"title\": {\"standoff\": 15}, \"zerolinecolor\": \"white\", \"zerolinewidth\": 2}}}},                        {\"responsive\": true}                    ).then(function(){\n",
       "                            \n",
       "var gd = document.getElementById('4b67a007-3a15-4ee0-9a7c-144328b115bb');\n",
       "var x = new MutationObserver(function (mutations, observer) {{\n",
       "        var display = window.getComputedStyle(gd).display;\n",
       "        if (!display || display === 'none') {{\n",
       "            console.log([gd, 'removed!']);\n",
       "            Plotly.purge(gd);\n",
       "            observer.disconnect();\n",
       "        }}\n",
       "}});\n",
       "\n",
       "// Listen for the removal of the full notebook cells\n",
       "var notebookContainer = gd.closest('#notebook-container');\n",
       "if (notebookContainer) {{\n",
       "    x.observe(notebookContainer, {childList: true});\n",
       "}}\n",
       "\n",
       "// Listen for the clearing of the current output cell\n",
       "var outputEl = gd.closest('.output');\n",
       "if (outputEl) {{\n",
       "    x.observe(outputEl, {childList: true});\n",
       "}}\n",
       "\n",
       "                        })                };                });            </script>        </div>"
      ]
     },
     "metadata": {},
     "output_type": "display_data"
    }
   ],
   "source": [
    "region_mirco_census_filtered_test = region_mirco_census[region_mirco_census['region_names'] == 'South East']\n",
    "\n",
    "Region = go.Histogram(\n",
    "    x=region_mirco_census_filtered_test['ethnicityew_names'], histnorm='percent',\n",
    "    opacity=0.4, name=\"Region\" \n",
    ")\n",
    "UK_average = go.Histogram(\n",
    "    x=region_mirco_census['ethnicityew_names'], histnorm='percent',\n",
    "    opacity=0.4, name=\"UK average\" \n",
    ")\n",
    "\n",
    "data = [Region, UK_average]\n",
    "layout = go.Layout(barmode='overlay')\n",
    "fig1 = go.Figure(data=data, layout=layout)\n",
    "\n",
    "fig1.show()"
   ]
  },
  {
   "cell_type": "code",
   "execution_count": 59,
   "id": "native-hampton",
   "metadata": {},
   "outputs": [],
   "source": [
    "app = dash.Dash()"
   ]
  },
  {
   "cell_type": "code",
   "execution_count": 60,
   "id": "cognitive-clarity",
   "metadata": {},
   "outputs": [],
   "source": [
    "\n",
    "features = region_mirco_census.columns\n",
    "\n",
    "app.layout = html.Div([\n",
    "    html.Div([\n",
    "        html.Div([\n",
    "        \n",
    "        html.Label('Select Charateristic'),\n",
    "            dcc.Dropdown(\n",
    "                id='slct_xaxis',\n",
    "                options=[{'label': i, 'value': i} for i in features],\n",
    "                value='ethnicityew_names',\n",
    "                multi=False)\n",
    "        \n",
    "    ]),\n",
    "        html.Div([\n",
    "\n",
    "        html.Label('Select Region'),\n",
    "        dcc.Dropdown(\n",
    "            id = 'select_region',\n",
    "            options = [{\n",
    "                     'label' : i, \n",
    "                     'value' : i\n",
    "             } for i in region_mirco_census['region_names'].unique()],\n",
    "            value = 'South East')\n",
    "            ]),\n",
    "            ]),\n",
    "\n",
    " \n",
    "    dcc.Graph(id='feature-graphic')\n",
    "], style={'padding':10})"
   ]
  },
  {
   "cell_type": "code",
   "execution_count": 61,
   "id": "rolled-juvenile",
   "metadata": {},
   "outputs": [],
   "source": [
    "@app.callback(\n",
    "    Output('feature-graphic', 'figure'),\n",
    "    [Input('slct_xaxis', 'value'),\n",
    "     Input('select_region', 'value')])\n",
    "def update_graph(slct_xaxis, select_region):\n",
    "\n",
    "    region_mirco_census_filtered_test = region_mirco_census[region_mirco_census['region_names'] == select_region]\n",
    "    fig = go.Figure()\n",
    "\n",
    "    fig.add_trace(\n",
    "        go.Histogram(\n",
    "            x=region_mirco_census_filtered_test[slct_xaxis], histnorm='percent',\n",
    "            opacity=0.8, name=\"Region\" \n",
    "        )\n",
    "    )\n",
    "\n",
    "    fig.add_trace(\n",
    "            go.Histogram(\n",
    "                x=region_mirco_census[slct_xaxis], histnorm='percent',\n",
    "                opacity=0.4, name=\"UK average\" \n",
    "            )\n",
    "    )\n",
    "    fig.update_layout(barmode='overlay')\n",
    "\n",
    "    #fig.show()\n",
    "    return fig"
   ]
  },
  {
   "cell_type": "code",
   "execution_count": 62,
   "id": "annual-civilization",
   "metadata": {},
   "outputs": [
    {
     "name": "stdout",
     "output_type": "stream",
     "text": [
      "Dash is running on http://127.0.0.1:7229/\n",
      "\n",
      "Dash is running on http://127.0.0.1:7229/\n",
      "\n",
      "Dash is running on http://127.0.0.1:7229/\n",
      "\n",
      "Dash is running on http://127.0.0.1:7229/\n",
      "\n",
      "Dash is running on http://127.0.0.1:7229/\n",
      "\n",
      "Dash is running on http://127.0.0.1:7229/\n",
      "\n",
      "Dash is running on http://127.0.0.1:7229/\n",
      "\n",
      "Dash is running on http://127.0.0.1:7229/\n",
      "\n",
      "Dash is running on http://127.0.0.1:7229/\n",
      "\n",
      "Dash is running on http://127.0.0.1:7229/\n",
      "\n",
      " * Serving Flask app \"__main__\" (lazy loading)\n",
      " * Environment: production\n",
      "   WARNING: This is a development server. Do not use it in a production deployment.\n",
      "   Use a production WSGI server instead.\n",
      " * Debug mode: off\n"
     ]
    },
    {
     "name": "stderr",
     "output_type": "stream",
     "text": [
      " * Running on http://127.0.0.1:7229/ (Press CTRL+C to quit)\n"
     ]
    }
   ],
   "source": [
    "if __name__ == '__main__':\n",
    "    app.run_server(debug=False, port= 7229)"
   ]
  },
  {
   "cell_type": "code",
   "execution_count": null,
   "id": "patient-planning",
   "metadata": {},
   "outputs": [],
   "source": [
    "@app.callback(\n",
    "    Output('feature-graphic', 'figure'),\n",
    "    [Input('slct_xaxis', 'value'),\n",
    "     Input('select_region', 'value')])\n",
    "def update_graph(slct_xaxis, select_region):\n",
    "\n",
    "    region_mirco_census_filtered_test = region_mirco_census[region_mirco_census['region_names'] == select_region]\n",
    "\n",
    "    Region = px.histogram(\n",
    "        x=region_mirco_census_filtered_test[slct_xaxis], histnorm='percent',\n",
    "        opacity=0.4, name=\"Region\" \n",
    "    )\n",
    "    UK_average = px.histogram(\n",
    "        x=region_mirco_census[slct_xaxis], histnorm='percent',\n",
    "        opacity=0.4, name=\"UK average\" \n",
    "    )\n",
    "\n",
    "    data = [Region, UK_average]\n",
    "    layout = go.Layout(barmode='overlay')\n",
    "    fig = go.Figure(data=data, layout=layout)\n",
    "\n",
    "    return fig\n",
    "    "
   ]
  },
  {
   "cell_type": "code",
   "execution_count": null,
   "id": "acceptable-darwin",
   "metadata": {},
   "outputs": [],
   "source": [
    "if __name__ == '__main__':\n",
    "    app.run_server(debug=False, port= 7229)"
   ]
  },
  {
   "cell_type": "code",
   "execution_count": null,
   "id": "spatial-possible",
   "metadata": {
    "scrolled": true
   },
   "outputs": [],
   "source": [
    "#if __name__ == '__main__':\n",
    " #   app.run_server(debug=False, port= 7229)"
   ]
  },
  {
   "cell_type": "code",
   "execution_count": null,
   "id": "sized-modeling",
   "metadata": {},
   "outputs": [],
   "source": [
    "'''app = dash.Dash(__name__)\n",
    "\n",
    "app.layout = html.Div([\n",
    "    html.H1(\"Web Application Dashboards with Dash\", style={'text-align': 'center'}),\n",
    "    html.Label('Choose'),\n",
    "    dcc.Dropdown(id=\"slct_location\",\n",
    "                 options=[\n",
    "                     {\"label\": \"Yorkshire and the Humber\", \"value\": \"Yorkshire and the Humber\"},\n",
    "                     {\"label\": \"Inner London\", \"value\": \"Inner London\"},\n",
    "                     ],\n",
    "                 multi=True,\n",
    "                 value=2015,\n",
    "                 style={'width': \"40%\"}\n",
    "                 ), \n",
    "    \n",
    "    \n",
    "    html.Div([\n",
    "        dcc.Graph(\n",
    "            figure=go.Figure(\n",
    "                data=[\n",
    "                    go.Bar(\n",
    "                        x=[1995, 1996, 1997, 1998, 1999, 2000, 2001, 2002, 2003,\n",
    "                        2004, 2005, 2006, 2007, 2008, 2009, 2010, 2011, 2012],\n",
    "                        y=[219, 146, 112, 127, 124, 180, 236, 207, 236, 263,\n",
    "                        350, 430, 474, 526, 488, 537, 500, 439],\n",
    "                        name='Rest of world',\n",
    "                        marker=go.Marker(\n",
    "                            color='rgb(55, 83, 109)'\n",
    "                        )\n",
    "                    ),\n",
    "                    go.Bar(\n",
    "                        x=[1995, 1996, 1997, 1998, 1999, 2000, 2001, 2002, 2003,\n",
    "                        2004, 2005, 2006, 2007, 2008, 2009, 2010, 2011, 2012],\n",
    "                        y=[16, 13, 10, 11, 28, 37, 43, 55, 56, 88, 105, 156, 270,\n",
    "                        299, 340, 403, 549, 499],\n",
    "                        name='China',\n",
    "                        marker=go.Marker(\n",
    "                            color='rgb(26, 118, 255)'\n",
    "                        )\n",
    "                    )\n",
    "                ],\n",
    "                layout=go.Layout(\n",
    "                    title='US Export of Plastic Scrap',\n",
    "                    showlegend=True,\n",
    "                    legend=go.Legend(\n",
    "                        x=0,\n",
    "                        y=1.0\n",
    "                    ),\n",
    "                    margin=dict(l=40, r=0, t=40, b=30)\n",
    "                )\n",
    "            ),\n",
    "            style={'height': 300},\n",
    "            id='my-graph')\n",
    "])])'''"
   ]
  },
  {
   "cell_type": "code",
   "execution_count": null,
   "id": "latin-score",
   "metadata": {},
   "outputs": [],
   "source": [
    "'''@app.callback(\n",
    "    [Output(component_id='output_container', component_property='children'),\n",
    "     Output(component_id='my_bee_map', component_property='figure')],\n",
    "    [Input(component_id='slct_year', component_property='value')]\n",
    ")\n",
    "def update_graph(slct_location):\n",
    "    print(slct_location)\n",
    "    print(type(slct_location))\n",
    "\n",
    "    container = \"The region chosen was: {}\".format(slct_location)\n",
    "\n",
    "    dff = region_mirco_census.copy()\n",
    "    dff = dff[dff[\"ethnicityew_names\"] == slct_location]\n",
    "    dff = dff[dff[\"Affected by\"] == \"Varroa_mites\"]\n",
    "\n",
    "    # Plotly Express\n",
    "    fig = px.choropleth(\n",
    "        data_frame=dff,\n",
    "        locationmode='USA-states',\n",
    "        locations='state_code',\n",
    "        scope=\"usa\",\n",
    "        color='Pct of Colonies Impacted',\n",
    "        hover_data=['State', 'Pct of Colonies Impacted'],\n",
    "        color_continuous_scale=px.colors.sequential.YlOrRd,\n",
    "        labels={'Pct of Colonies Impacted': '% of Bee Colonies'},\n",
    "        template='plotly_dark'\n",
    "    )'''"
   ]
  },
  {
   "cell_type": "code",
   "execution_count": null,
   "id": "indie-routine",
   "metadata": {},
   "outputs": [],
   "source": [
    "if __name__ == '__main__':\n",
    "    app.run_server(debug=False, port= 7222)"
   ]
  }
 ],
 "metadata": {
  "kernelspec": {
   "display_name": "Python 3",
   "language": "python",
   "name": "python3"
  },
  "language_info": {
   "codemirror_mode": {
    "name": "ipython",
    "version": 3
   },
   "file_extension": ".py",
   "mimetype": "text/x-python",
   "name": "python",
   "nbconvert_exporter": "python",
   "pygments_lexer": "ipython3",
   "version": "3.8.5"
  }
 },
 "nbformat": 4,
 "nbformat_minor": 5
}
